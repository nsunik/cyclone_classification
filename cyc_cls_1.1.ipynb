{
 "cells": [
  {
   "cell_type": "markdown",
   "id": "219cdef2",
   "metadata": {},
   "source": [
    "# Cyclone Patterns & Classification"
   ]
  },
  {
   "cell_type": "markdown",
   "id": "056f717d",
   "metadata": {},
   "source": [
    "Excel file contains 4 cyclone Type classification \n",
    "1.Typhoon\n",
    "2.Severe Tropical Storm\n",
    "3.Tropical Storm\n",
    "4.Tropical Depression"
   ]
  },
  {
   "cell_type": "raw",
   "id": "0f867854",
   "metadata": {},
   "source": [
    "Category\tSustained winds\n",
    "1.Typhoon\t≥64 knots\n",
    "≥118 km/h\n",
    "\n",
    "2.Severe Tropical Storm\t48–63 knots\n",
    "89–117 km/h\n",
    "\n",
    "3.Tropical Storm\t34–47 knots\n",
    "62–88 km/h\n",
    "\n",
    "4.Tropical Depression\t≤33 knots\n",
    "≤61 km/h"
   ]
  },
  {
   "cell_type": "markdown",
   "id": "ac5b1435",
   "metadata": {},
   "source": [
    "Classification     TypeName                      Type\n",
    " \n",
    "   1               Typhoon                       T\n",
    "   2               Severe Tropical Storm         SS\n",
    "   3               Tropical Storm                S\n",
    "   4               Tropical Depression           D"
   ]
  },
  {
   "cell_type": "code",
   "execution_count": 253,
   "id": "f16ee6a3",
   "metadata": {},
   "outputs": [],
   "source": [
    "#importing libraries\n",
    "import numpy as np\n",
    "import pandas as pd\n",
    "import matplotlib.pyplot as plt\n",
    "import time\n",
    "%matplotlib inline\n",
    "import seaborn as sns\n",
    "from sklearn import preprocessing"
   ]
  },
  {
   "cell_type": "code",
   "execution_count": 254,
   "id": "d5cbc951",
   "metadata": {},
   "outputs": [],
   "source": [
    "cyc_df=pd.read_excel('/Users/n.sunik/Downloads/Cyclone Excel File.xlsx')\n",
    "#/Users/n.sunik/IBM_Internship"
   ]
  },
  {
   "cell_type": "code",
   "execution_count": 255,
   "id": "c155c8ed",
   "metadata": {},
   "outputs": [
    {
     "data": {
      "text/html": [
       "<div>\n",
       "<style scoped>\n",
       "    .dataframe tbody tr th:only-of-type {\n",
       "        vertical-align: middle;\n",
       "    }\n",
       "\n",
       "    .dataframe tbody tr th {\n",
       "        vertical-align: top;\n",
       "    }\n",
       "\n",
       "    .dataframe thead th {\n",
       "        text-align: right;\n",
       "    }\n",
       "</style>\n",
       "<table border=\"1\" class=\"dataframe\">\n",
       "  <thead>\n",
       "    <tr style=\"text-align: right;\">\n",
       "      <th></th>\n",
       "      <th>Year</th>\n",
       "      <th>Month</th>\n",
       "      <th>Date</th>\n",
       "      <th>Time</th>\n",
       "      <th>CycloneName</th>\n",
       "      <th>TypeName</th>\n",
       "      <th>Type</th>\n",
       "      <th>Wind(km/h)</th>\n",
       "      <th>Pressure(mb)</th>\n",
       "    </tr>\n",
       "  </thead>\n",
       "  <tbody>\n",
       "    <tr>\n",
       "      <th>0</th>\n",
       "      <td>2021.0</td>\n",
       "      <td>December</td>\n",
       "      <td>Dec 18</td>\n",
       "      <td>11:30</td>\n",
       "      <td>Typhoon Rai (Odette) 2021</td>\n",
       "      <td>Typhoon</td>\n",
       "      <td>T</td>\n",
       "      <td>170.0</td>\n",
       "      <td>962.0</td>\n",
       "    </tr>\n",
       "    <tr>\n",
       "      <th>1</th>\n",
       "      <td>2021.0</td>\n",
       "      <td>December</td>\n",
       "      <td>Dec 19</td>\n",
       "      <td>17:30</td>\n",
       "      <td>Typhoon Rai (Odette) 2021</td>\n",
       "      <td>Typhoon</td>\n",
       "      <td>T</td>\n",
       "      <td>165.0</td>\n",
       "      <td>957.0</td>\n",
       "    </tr>\n",
       "    <tr>\n",
       "      <th>2</th>\n",
       "      <td>2021.0</td>\n",
       "      <td>December</td>\n",
       "      <td>Dec 19</td>\n",
       "      <td>23:30</td>\n",
       "      <td>Typhoon Rai (Odette) 2021</td>\n",
       "      <td>Typhoon</td>\n",
       "      <td>T</td>\n",
       "      <td>170.0</td>\n",
       "      <td>962.0</td>\n",
       "    </tr>\n",
       "    <tr>\n",
       "      <th>3</th>\n",
       "      <td>2021.0</td>\n",
       "      <td>December</td>\n",
       "      <td>Dec 17</td>\n",
       "      <td>17:30</td>\n",
       "      <td>Typhoon Rai (Odette) 2021</td>\n",
       "      <td>Typhoon</td>\n",
       "      <td>T</td>\n",
       "      <td>175.0</td>\n",
       "      <td>963.0</td>\n",
       "    </tr>\n",
       "    <tr>\n",
       "      <th>4</th>\n",
       "      <td>2021.0</td>\n",
       "      <td>December</td>\n",
       "      <td>Dec 15</td>\n",
       "      <td>5:30</td>\n",
       "      <td>Typhoon Rai (Odette) 2021</td>\n",
       "      <td>Typhoon</td>\n",
       "      <td>T</td>\n",
       "      <td>120.0</td>\n",
       "      <td>985.0</td>\n",
       "    </tr>\n",
       "    <tr>\n",
       "      <th>...</th>\n",
       "      <td>...</td>\n",
       "      <td>...</td>\n",
       "      <td>...</td>\n",
       "      <td>...</td>\n",
       "      <td>...</td>\n",
       "      <td>...</td>\n",
       "      <td>...</td>\n",
       "      <td>...</td>\n",
       "      <td>...</td>\n",
       "    </tr>\n",
       "    <tr>\n",
       "      <th>169</th>\n",
       "      <td>2021.0</td>\n",
       "      <td>NaN</td>\n",
       "      <td>2021-01-19 00:00:00</td>\n",
       "      <td>02:30:00</td>\n",
       "      <td>NaN</td>\n",
       "      <td>TROPICAL STORM</td>\n",
       "      <td>S</td>\n",
       "      <td>90.0</td>\n",
       "      <td>997.0</td>\n",
       "    </tr>\n",
       "    <tr>\n",
       "      <th>170</th>\n",
       "      <td>2021.0</td>\n",
       "      <td>NaN</td>\n",
       "      <td>2021-01-19 00:00:00</td>\n",
       "      <td>02:30:00</td>\n",
       "      <td>NaN</td>\n",
       "      <td>TROPICAL STORM</td>\n",
       "      <td>S</td>\n",
       "      <td>90.0</td>\n",
       "      <td>996.0</td>\n",
       "    </tr>\n",
       "    <tr>\n",
       "      <th>171</th>\n",
       "      <td>2021.0</td>\n",
       "      <td>NaN</td>\n",
       "      <td>2021-01-20 00:00:00</td>\n",
       "      <td>02:30:00</td>\n",
       "      <td>NaN</td>\n",
       "      <td>TROPICAL STORM</td>\n",
       "      <td>S</td>\n",
       "      <td>80.0</td>\n",
       "      <td>996.0</td>\n",
       "    </tr>\n",
       "    <tr>\n",
       "      <th>172</th>\n",
       "      <td>2021.0</td>\n",
       "      <td>NaN</td>\n",
       "      <td>2021-01-20 00:00:00</td>\n",
       "      <td>05:30:00</td>\n",
       "      <td>NaN</td>\n",
       "      <td>TROPICAL STORM</td>\n",
       "      <td>S</td>\n",
       "      <td>65.0</td>\n",
       "      <td>1000.0</td>\n",
       "    </tr>\n",
       "    <tr>\n",
       "      <th>173</th>\n",
       "      <td>2021.0</td>\n",
       "      <td>NaN</td>\n",
       "      <td>2021-01-21 00:00:00</td>\n",
       "      <td>05:30:00</td>\n",
       "      <td>NaN</td>\n",
       "      <td>TROPICAL STORM</td>\n",
       "      <td>S</td>\n",
       "      <td>85.0</td>\n",
       "      <td>999.0</td>\n",
       "    </tr>\n",
       "  </tbody>\n",
       "</table>\n",
       "<p>174 rows × 9 columns</p>\n",
       "</div>"
      ],
      "text/plain": [
       "       Year     Month                 Date      Time  \\\n",
       "0    2021.0  December               Dec 18     11:30   \n",
       "1    2021.0  December               Dec 19     17:30   \n",
       "2    2021.0  December               Dec 19     23:30   \n",
       "3    2021.0  December               Dec 17     17:30   \n",
       "4    2021.0  December               Dec 15      5:30   \n",
       "..      ...       ...                  ...       ...   \n",
       "169  2021.0       NaN  2021-01-19 00:00:00  02:30:00   \n",
       "170  2021.0       NaN  2021-01-19 00:00:00  02:30:00   \n",
       "171  2021.0       NaN  2021-01-20 00:00:00  02:30:00   \n",
       "172  2021.0       NaN  2021-01-20 00:00:00  05:30:00   \n",
       "173  2021.0       NaN  2021-01-21 00:00:00  05:30:00   \n",
       "\n",
       "                   CycloneName        TypeName Type  Wind(km/h)  Pressure(mb)  \n",
       "0    Typhoon Rai (Odette) 2021         Typhoon    T       170.0         962.0  \n",
       "1    Typhoon Rai (Odette) 2021         Typhoon    T       165.0         957.0  \n",
       "2    Typhoon Rai (Odette) 2021         Typhoon    T       170.0         962.0  \n",
       "3    Typhoon Rai (Odette) 2021         Typhoon    T       175.0         963.0  \n",
       "4    Typhoon Rai (Odette) 2021         Typhoon    T       120.0         985.0  \n",
       "..                         ...             ...  ...         ...           ...  \n",
       "169                        NaN  TROPICAL STORM    S        90.0         997.0  \n",
       "170                        NaN  TROPICAL STORM    S        90.0         996.0  \n",
       "171                        NaN  TROPICAL STORM    S        80.0         996.0  \n",
       "172                        NaN  TROPICAL STORM    S        65.0        1000.0  \n",
       "173                        NaN  TROPICAL STORM    S        85.0         999.0  \n",
       "\n",
       "[174 rows x 9 columns]"
      ]
     },
     "execution_count": 255,
     "metadata": {},
     "output_type": "execute_result"
    }
   ],
   "source": [
    "cyc_df"
   ]
  },
  {
   "cell_type": "markdown",
   "id": "8b319b6e",
   "metadata": {},
   "source": [
    "174 rows × 9 columns"
   ]
  },
  {
   "cell_type": "code",
   "execution_count": 256,
   "id": "6961a912",
   "metadata": {},
   "outputs": [
    {
     "data": {
      "text/html": [
       "<div>\n",
       "<style scoped>\n",
       "    .dataframe tbody tr th:only-of-type {\n",
       "        vertical-align: middle;\n",
       "    }\n",
       "\n",
       "    .dataframe tbody tr th {\n",
       "        vertical-align: top;\n",
       "    }\n",
       "\n",
       "    .dataframe thead th {\n",
       "        text-align: right;\n",
       "    }\n",
       "</style>\n",
       "<table border=\"1\" class=\"dataframe\">\n",
       "  <thead>\n",
       "    <tr style=\"text-align: right;\">\n",
       "      <th></th>\n",
       "      <th>Year</th>\n",
       "      <th>Month</th>\n",
       "      <th>Date</th>\n",
       "      <th>Time</th>\n",
       "      <th>CycloneName</th>\n",
       "      <th>TypeName</th>\n",
       "      <th>Type</th>\n",
       "      <th>Wind(km/h)</th>\n",
       "      <th>Pressure(mb)</th>\n",
       "    </tr>\n",
       "  </thead>\n",
       "  <tbody>\n",
       "    <tr>\n",
       "      <th>count</th>\n",
       "      <td>171.000000</td>\n",
       "      <td>42</td>\n",
       "      <td>172</td>\n",
       "      <td>172</td>\n",
       "      <td>42</td>\n",
       "      <td>172</td>\n",
       "      <td>170</td>\n",
       "      <td>172.000000</td>\n",
       "      <td>172.000000</td>\n",
       "    </tr>\n",
       "    <tr>\n",
       "      <th>unique</th>\n",
       "      <td>NaN</td>\n",
       "      <td>3</td>\n",
       "      <td>71</td>\n",
       "      <td>17</td>\n",
       "      <td>3</td>\n",
       "      <td>4</td>\n",
       "      <td>4</td>\n",
       "      <td>NaN</td>\n",
       "      <td>NaN</td>\n",
       "    </tr>\n",
       "    <tr>\n",
       "      <th>top</th>\n",
       "      <td>NaN</td>\n",
       "      <td>September</td>\n",
       "      <td>2021-01-18 00:00:00</td>\n",
       "      <td>02:30:00</td>\n",
       "      <td>Typhoon Malou 2021</td>\n",
       "      <td>TROPICAL STORM</td>\n",
       "      <td>S</td>\n",
       "      <td>NaN</td>\n",
       "      <td>NaN</td>\n",
       "    </tr>\n",
       "    <tr>\n",
       "      <th>freq</th>\n",
       "      <td>NaN</td>\n",
       "      <td>25</td>\n",
       "      <td>8</td>\n",
       "      <td>25</td>\n",
       "      <td>25</td>\n",
       "      <td>53</td>\n",
       "      <td>53</td>\n",
       "      <td>NaN</td>\n",
       "      <td>NaN</td>\n",
       "    </tr>\n",
       "    <tr>\n",
       "      <th>mean</th>\n",
       "      <td>2016.660819</td>\n",
       "      <td>NaN</td>\n",
       "      <td>NaN</td>\n",
       "      <td>NaN</td>\n",
       "      <td>NaN</td>\n",
       "      <td>NaN</td>\n",
       "      <td>NaN</td>\n",
       "      <td>93.866279</td>\n",
       "      <td>987.058140</td>\n",
       "    </tr>\n",
       "    <tr>\n",
       "      <th>std</th>\n",
       "      <td>4.124766</td>\n",
       "      <td>NaN</td>\n",
       "      <td>NaN</td>\n",
       "      <td>NaN</td>\n",
       "      <td>NaN</td>\n",
       "      <td>NaN</td>\n",
       "      <td>NaN</td>\n",
       "      <td>37.986911</td>\n",
       "      <td>14.509005</td>\n",
       "    </tr>\n",
       "    <tr>\n",
       "      <th>min</th>\n",
       "      <td>2009.000000</td>\n",
       "      <td>NaN</td>\n",
       "      <td>NaN</td>\n",
       "      <td>NaN</td>\n",
       "      <td>NaN</td>\n",
       "      <td>NaN</td>\n",
       "      <td>NaN</td>\n",
       "      <td>35.000000</td>\n",
       "      <td>949.000000</td>\n",
       "    </tr>\n",
       "    <tr>\n",
       "      <th>25%</th>\n",
       "      <td>2013.000000</td>\n",
       "      <td>NaN</td>\n",
       "      <td>NaN</td>\n",
       "      <td>NaN</td>\n",
       "      <td>NaN</td>\n",
       "      <td>NaN</td>\n",
       "      <td>NaN</td>\n",
       "      <td>60.000000</td>\n",
       "      <td>979.000000</td>\n",
       "    </tr>\n",
       "    <tr>\n",
       "      <th>50%</th>\n",
       "      <td>2018.000000</td>\n",
       "      <td>NaN</td>\n",
       "      <td>NaN</td>\n",
       "      <td>NaN</td>\n",
       "      <td>NaN</td>\n",
       "      <td>NaN</td>\n",
       "      <td>NaN</td>\n",
       "      <td>85.000000</td>\n",
       "      <td>989.000000</td>\n",
       "    </tr>\n",
       "    <tr>\n",
       "      <th>75%</th>\n",
       "      <td>2021.000000</td>\n",
       "      <td>NaN</td>\n",
       "      <td>NaN</td>\n",
       "      <td>NaN</td>\n",
       "      <td>NaN</td>\n",
       "      <td>NaN</td>\n",
       "      <td>NaN</td>\n",
       "      <td>120.000000</td>\n",
       "      <td>1000.000000</td>\n",
       "    </tr>\n",
       "    <tr>\n",
       "      <th>max</th>\n",
       "      <td>2021.000000</td>\n",
       "      <td>NaN</td>\n",
       "      <td>NaN</td>\n",
       "      <td>NaN</td>\n",
       "      <td>NaN</td>\n",
       "      <td>NaN</td>\n",
       "      <td>NaN</td>\n",
       "      <td>175.000000</td>\n",
       "      <td>1007.000000</td>\n",
       "    </tr>\n",
       "  </tbody>\n",
       "</table>\n",
       "</div>"
      ],
      "text/plain": [
       "               Year      Month                 Date      Time  \\\n",
       "count    171.000000         42                  172       172   \n",
       "unique          NaN          3                   71        17   \n",
       "top             NaN  September  2021-01-18 00:00:00  02:30:00   \n",
       "freq            NaN         25                    8        25   \n",
       "mean    2016.660819        NaN                  NaN       NaN   \n",
       "std        4.124766        NaN                  NaN       NaN   \n",
       "min     2009.000000        NaN                  NaN       NaN   \n",
       "25%     2013.000000        NaN                  NaN       NaN   \n",
       "50%     2018.000000        NaN                  NaN       NaN   \n",
       "75%     2021.000000        NaN                  NaN       NaN   \n",
       "max     2021.000000        NaN                  NaN       NaN   \n",
       "\n",
       "               CycloneName        TypeName Type  Wind(km/h)  Pressure(mb)  \n",
       "count                   42             172  170  172.000000    172.000000  \n",
       "unique                   3               4    4         NaN           NaN  \n",
       "top     Typhoon Malou 2021  TROPICAL STORM    S         NaN           NaN  \n",
       "freq                    25              53   53         NaN           NaN  \n",
       "mean                   NaN             NaN  NaN   93.866279    987.058140  \n",
       "std                    NaN             NaN  NaN   37.986911     14.509005  \n",
       "min                    NaN             NaN  NaN   35.000000    949.000000  \n",
       "25%                    NaN             NaN  NaN   60.000000    979.000000  \n",
       "50%                    NaN             NaN  NaN   85.000000    989.000000  \n",
       "75%                    NaN             NaN  NaN  120.000000   1000.000000  \n",
       "max                    NaN             NaN  NaN  175.000000   1007.000000  "
      ]
     },
     "execution_count": 256,
     "metadata": {},
     "output_type": "execute_result"
    }
   ],
   "source": [
    "cyc_df.describe(include='all')"
   ]
  },
  {
   "cell_type": "code",
   "execution_count": 257,
   "id": "116f3ae3",
   "metadata": {},
   "outputs": [
    {
     "data": {
      "text/html": [
       "<div>\n",
       "<style scoped>\n",
       "    .dataframe tbody tr th:only-of-type {\n",
       "        vertical-align: middle;\n",
       "    }\n",
       "\n",
       "    .dataframe tbody tr th {\n",
       "        vertical-align: top;\n",
       "    }\n",
       "\n",
       "    .dataframe thead th {\n",
       "        text-align: right;\n",
       "    }\n",
       "</style>\n",
       "<table border=\"1\" class=\"dataframe\">\n",
       "  <thead>\n",
       "    <tr style=\"text-align: right;\">\n",
       "      <th></th>\n",
       "      <th>Year</th>\n",
       "      <th>Month</th>\n",
       "      <th>Date</th>\n",
       "      <th>Time</th>\n",
       "      <th>CycloneName</th>\n",
       "      <th>TypeName</th>\n",
       "      <th>Type</th>\n",
       "      <th>Wind(km/h)</th>\n",
       "      <th>Pressure(mb)</th>\n",
       "    </tr>\n",
       "  </thead>\n",
       "  <tbody>\n",
       "    <tr>\n",
       "      <th>0</th>\n",
       "      <td>2021.0</td>\n",
       "      <td>December</td>\n",
       "      <td>Dec 18</td>\n",
       "      <td>11:30</td>\n",
       "      <td>Typhoon Rai (Odette) 2021</td>\n",
       "      <td>Typhoon</td>\n",
       "      <td>T</td>\n",
       "      <td>170.0</td>\n",
       "      <td>962.0</td>\n",
       "    </tr>\n",
       "    <tr>\n",
       "      <th>1</th>\n",
       "      <td>2021.0</td>\n",
       "      <td>December</td>\n",
       "      <td>Dec 19</td>\n",
       "      <td>17:30</td>\n",
       "      <td>Typhoon Rai (Odette) 2021</td>\n",
       "      <td>Typhoon</td>\n",
       "      <td>T</td>\n",
       "      <td>165.0</td>\n",
       "      <td>957.0</td>\n",
       "    </tr>\n",
       "    <tr>\n",
       "      <th>2</th>\n",
       "      <td>2021.0</td>\n",
       "      <td>December</td>\n",
       "      <td>Dec 19</td>\n",
       "      <td>23:30</td>\n",
       "      <td>Typhoon Rai (Odette) 2021</td>\n",
       "      <td>Typhoon</td>\n",
       "      <td>T</td>\n",
       "      <td>170.0</td>\n",
       "      <td>962.0</td>\n",
       "    </tr>\n",
       "    <tr>\n",
       "      <th>3</th>\n",
       "      <td>2021.0</td>\n",
       "      <td>December</td>\n",
       "      <td>Dec 17</td>\n",
       "      <td>17:30</td>\n",
       "      <td>Typhoon Rai (Odette) 2021</td>\n",
       "      <td>Typhoon</td>\n",
       "      <td>T</td>\n",
       "      <td>175.0</td>\n",
       "      <td>963.0</td>\n",
       "    </tr>\n",
       "    <tr>\n",
       "      <th>4</th>\n",
       "      <td>2021.0</td>\n",
       "      <td>December</td>\n",
       "      <td>Dec 15</td>\n",
       "      <td>5:30</td>\n",
       "      <td>Typhoon Rai (Odette) 2021</td>\n",
       "      <td>Typhoon</td>\n",
       "      <td>T</td>\n",
       "      <td>120.0</td>\n",
       "      <td>985.0</td>\n",
       "    </tr>\n",
       "  </tbody>\n",
       "</table>\n",
       "</div>"
      ],
      "text/plain": [
       "     Year     Month    Date   Time                CycloneName TypeName Type  \\\n",
       "0  2021.0  December  Dec 18  11:30  Typhoon Rai (Odette) 2021  Typhoon    T   \n",
       "1  2021.0  December  Dec 19  17:30  Typhoon Rai (Odette) 2021  Typhoon    T   \n",
       "2  2021.0  December  Dec 19  23:30  Typhoon Rai (Odette) 2021  Typhoon    T   \n",
       "3  2021.0  December  Dec 17  17:30  Typhoon Rai (Odette) 2021  Typhoon    T   \n",
       "4  2021.0  December  Dec 15   5:30  Typhoon Rai (Odette) 2021  Typhoon    T   \n",
       "\n",
       "   Wind(km/h)  Pressure(mb)  \n",
       "0       170.0         962.0  \n",
       "1       165.0         957.0  \n",
       "2       170.0         962.0  \n",
       "3       175.0         963.0  \n",
       "4       120.0         985.0  "
      ]
     },
     "execution_count": 257,
     "metadata": {},
     "output_type": "execute_result"
    }
   ],
   "source": [
    "cyc_df.head()"
   ]
  },
  {
   "cell_type": "code",
   "execution_count": 258,
   "id": "df65dd7d",
   "metadata": {},
   "outputs": [
    {
     "data": {
      "text/html": [
       "<div>\n",
       "<style scoped>\n",
       "    .dataframe tbody tr th:only-of-type {\n",
       "        vertical-align: middle;\n",
       "    }\n",
       "\n",
       "    .dataframe tbody tr th {\n",
       "        vertical-align: top;\n",
       "    }\n",
       "\n",
       "    .dataframe thead th {\n",
       "        text-align: right;\n",
       "    }\n",
       "</style>\n",
       "<table border=\"1\" class=\"dataframe\">\n",
       "  <thead>\n",
       "    <tr style=\"text-align: right;\">\n",
       "      <th></th>\n",
       "      <th>Year</th>\n",
       "      <th>Month</th>\n",
       "      <th>Date</th>\n",
       "      <th>Time</th>\n",
       "      <th>CycloneName</th>\n",
       "      <th>TypeName</th>\n",
       "      <th>Type</th>\n",
       "      <th>Wind(km/h)</th>\n",
       "      <th>Pressure(mb)</th>\n",
       "    </tr>\n",
       "  </thead>\n",
       "  <tbody>\n",
       "    <tr>\n",
       "      <th>169</th>\n",
       "      <td>2021.0</td>\n",
       "      <td>NaN</td>\n",
       "      <td>2021-01-19 00:00:00</td>\n",
       "      <td>02:30:00</td>\n",
       "      <td>NaN</td>\n",
       "      <td>TROPICAL STORM</td>\n",
       "      <td>S</td>\n",
       "      <td>90.0</td>\n",
       "      <td>997.0</td>\n",
       "    </tr>\n",
       "    <tr>\n",
       "      <th>170</th>\n",
       "      <td>2021.0</td>\n",
       "      <td>NaN</td>\n",
       "      <td>2021-01-19 00:00:00</td>\n",
       "      <td>02:30:00</td>\n",
       "      <td>NaN</td>\n",
       "      <td>TROPICAL STORM</td>\n",
       "      <td>S</td>\n",
       "      <td>90.0</td>\n",
       "      <td>996.0</td>\n",
       "    </tr>\n",
       "    <tr>\n",
       "      <th>171</th>\n",
       "      <td>2021.0</td>\n",
       "      <td>NaN</td>\n",
       "      <td>2021-01-20 00:00:00</td>\n",
       "      <td>02:30:00</td>\n",
       "      <td>NaN</td>\n",
       "      <td>TROPICAL STORM</td>\n",
       "      <td>S</td>\n",
       "      <td>80.0</td>\n",
       "      <td>996.0</td>\n",
       "    </tr>\n",
       "    <tr>\n",
       "      <th>172</th>\n",
       "      <td>2021.0</td>\n",
       "      <td>NaN</td>\n",
       "      <td>2021-01-20 00:00:00</td>\n",
       "      <td>05:30:00</td>\n",
       "      <td>NaN</td>\n",
       "      <td>TROPICAL STORM</td>\n",
       "      <td>S</td>\n",
       "      <td>65.0</td>\n",
       "      <td>1000.0</td>\n",
       "    </tr>\n",
       "    <tr>\n",
       "      <th>173</th>\n",
       "      <td>2021.0</td>\n",
       "      <td>NaN</td>\n",
       "      <td>2021-01-21 00:00:00</td>\n",
       "      <td>05:30:00</td>\n",
       "      <td>NaN</td>\n",
       "      <td>TROPICAL STORM</td>\n",
       "      <td>S</td>\n",
       "      <td>85.0</td>\n",
       "      <td>999.0</td>\n",
       "    </tr>\n",
       "  </tbody>\n",
       "</table>\n",
       "</div>"
      ],
      "text/plain": [
       "       Year Month                 Date      Time CycloneName        TypeName  \\\n",
       "169  2021.0   NaN  2021-01-19 00:00:00  02:30:00         NaN  TROPICAL STORM   \n",
       "170  2021.0   NaN  2021-01-19 00:00:00  02:30:00         NaN  TROPICAL STORM   \n",
       "171  2021.0   NaN  2021-01-20 00:00:00  02:30:00         NaN  TROPICAL STORM   \n",
       "172  2021.0   NaN  2021-01-20 00:00:00  05:30:00         NaN  TROPICAL STORM   \n",
       "173  2021.0   NaN  2021-01-21 00:00:00  05:30:00         NaN  TROPICAL STORM   \n",
       "\n",
       "    Type  Wind(km/h)  Pressure(mb)  \n",
       "169    S        90.0         997.0  \n",
       "170    S        90.0         996.0  \n",
       "171    S        80.0         996.0  \n",
       "172    S        65.0        1000.0  \n",
       "173    S        85.0         999.0  "
      ]
     },
     "execution_count": 258,
     "metadata": {},
     "output_type": "execute_result"
    }
   ],
   "source": [
    "cyc_df.tail()"
   ]
  },
  {
   "cell_type": "code",
   "execution_count": 259,
   "id": "6a8cf835",
   "metadata": {},
   "outputs": [
    {
     "data": {
      "text/plain": [
       "Year            float64\n",
       "Month            object\n",
       "Date             object\n",
       "Time             object\n",
       "CycloneName      object\n",
       "TypeName         object\n",
       "Type             object\n",
       "Wind(km/h)      float64\n",
       "Pressure(mb)    float64\n",
       "dtype: object"
      ]
     },
     "execution_count": 259,
     "metadata": {},
     "output_type": "execute_result"
    }
   ],
   "source": [
    "cyc_df.dtypes"
   ]
  },
  {
   "cell_type": "code",
   "execution_count": 260,
   "id": "e814b329",
   "metadata": {},
   "outputs": [
    {
     "data": {
      "text/plain": [
       "S     53\n",
       "D     50\n",
       "T     40\n",
       "SS    27\n",
       "Name: Type, dtype: int64"
      ]
     },
     "execution_count": 260,
     "metadata": {},
     "output_type": "execute_result"
    }
   ],
   "source": [
    "cyc_df.Type.value_counts()"
   ]
  },
  {
   "cell_type": "code",
   "execution_count": 261,
   "id": "654972bf",
   "metadata": {},
   "outputs": [
    {
     "data": {
      "text/html": [
       "<div>\n",
       "<style scoped>\n",
       "    .dataframe tbody tr th:only-of-type {\n",
       "        vertical-align: middle;\n",
       "    }\n",
       "\n",
       "    .dataframe tbody tr th {\n",
       "        vertical-align: top;\n",
       "    }\n",
       "\n",
       "    .dataframe thead th {\n",
       "        text-align: right;\n",
       "    }\n",
       "</style>\n",
       "<table border=\"1\" class=\"dataframe\">\n",
       "  <thead>\n",
       "    <tr style=\"text-align: right;\">\n",
       "      <th></th>\n",
       "      <th>Year</th>\n",
       "      <th>TypeName</th>\n",
       "      <th>Wind(km/h)</th>\n",
       "      <th>Pressure(mb)</th>\n",
       "    </tr>\n",
       "  </thead>\n",
       "  <tbody>\n",
       "    <tr>\n",
       "      <th>0</th>\n",
       "      <td>2021.0</td>\n",
       "      <td>Typhoon</td>\n",
       "      <td>170.0</td>\n",
       "      <td>962.0</td>\n",
       "    </tr>\n",
       "    <tr>\n",
       "      <th>1</th>\n",
       "      <td>2021.0</td>\n",
       "      <td>Typhoon</td>\n",
       "      <td>165.0</td>\n",
       "      <td>957.0</td>\n",
       "    </tr>\n",
       "    <tr>\n",
       "      <th>2</th>\n",
       "      <td>2021.0</td>\n",
       "      <td>Typhoon</td>\n",
       "      <td>170.0</td>\n",
       "      <td>962.0</td>\n",
       "    </tr>\n",
       "    <tr>\n",
       "      <th>3</th>\n",
       "      <td>2021.0</td>\n",
       "      <td>Typhoon</td>\n",
       "      <td>175.0</td>\n",
       "      <td>963.0</td>\n",
       "    </tr>\n",
       "    <tr>\n",
       "      <th>4</th>\n",
       "      <td>2021.0</td>\n",
       "      <td>Typhoon</td>\n",
       "      <td>120.0</td>\n",
       "      <td>985.0</td>\n",
       "    </tr>\n",
       "  </tbody>\n",
       "</table>\n",
       "</div>"
      ],
      "text/plain": [
       "     Year TypeName  Wind(km/h)  Pressure(mb)\n",
       "0  2021.0  Typhoon       170.0         962.0\n",
       "1  2021.0  Typhoon       165.0         957.0\n",
       "2  2021.0  Typhoon       170.0         962.0\n",
       "3  2021.0  Typhoon       175.0         963.0\n",
       "4  2021.0  Typhoon       120.0         985.0"
      ]
     },
     "execution_count": 261,
     "metadata": {},
     "output_type": "execute_result"
    }
   ],
   "source": [
    "# delete a unnecessary columns with respect to  target value cycloneType/cyclone Type NAME\n",
    "cyc_df = cyc_df.drop(columns = ['CycloneName','Month','Date','Time','Type'])\n",
    "cyc_df.head()"
   ]
  },
  {
   "cell_type": "code",
   "execution_count": 262,
   "id": "12163aee",
   "metadata": {},
   "outputs": [],
   "source": [
    "#df_slovakia=df[(df['location']=='Slovakia')]"
   ]
  },
  {
   "cell_type": "code",
   "execution_count": 263,
   "id": "3279de77",
   "metadata": {},
   "outputs": [
    {
     "data": {
      "text/plain": [
       "array(['Typhoon', 'TROPICAL DEPRESSION', nan, 'SEVERE TROPICAL STORM',\n",
       "       'TROPICAL STORM'], dtype=object)"
      ]
     },
     "execution_count": 263,
     "metadata": {},
     "output_type": "execute_result"
    }
   ],
   "source": [
    "cyc_df.TypeName.unique()"
   ]
  },
  {
   "cell_type": "markdown",
   "id": "7909f913",
   "metadata": {},
   "source": [
    "In this excel file cyclone data are classified as\n",
    "1.Tropical Depression\n",
    "2.Tropical Storm \n",
    "3.Typhoon \n",
    "4.SEVERE TROPICAL STORM"
   ]
  },
  {
   "cell_type": "code",
   "execution_count": 264,
   "id": "c06f1da7",
   "metadata": {},
   "outputs": [
    {
     "data": {
      "text/plain": [
       "43     2009.0\n",
       "122    2009.0\n",
       "121    2009.0\n",
       "93     2009.0\n",
       "47     2009.0\n",
       "        ...  \n",
       "119    2021.0\n",
       "173    2021.0\n",
       "41        NaN\n",
       "92        NaN\n",
       "120       NaN\n",
       "Name: Year, Length: 174, dtype: float64"
      ]
     },
     "execution_count": 264,
     "metadata": {},
     "output_type": "execute_result"
    }
   ],
   "source": [
    "#cyc_df.Year.sort()\n",
    "cyc_df.Year.sort_values()"
   ]
  },
  {
   "cell_type": "code",
   "execution_count": 265,
   "id": "68142e2b",
   "metadata": {},
   "outputs": [
    {
     "data": {
      "text/plain": [
       "array([2021.,   nan, 2009., 2010., 2011., 2012., 2013., 2015., 2016.,\n",
       "       2017., 2018., 2019., 2020., 2014.])"
      ]
     },
     "execution_count": 265,
     "metadata": {},
     "output_type": "execute_result"
    }
   ],
   "source": [
    "cyc_df.Year.unique()\n",
    "#years are 2009 - 2021"
   ]
  },
  {
   "cell_type": "code",
   "execution_count": 266,
   "id": "990e1a83",
   "metadata": {},
   "outputs": [
    {
     "data": {
      "text/plain": [
       "Year            float64\n",
       "TypeName         object\n",
       "Wind(km/h)      float64\n",
       "Pressure(mb)    float64\n",
       "dtype: object"
      ]
     },
     "execution_count": 266,
     "metadata": {},
     "output_type": "execute_result"
    }
   ],
   "source": [
    "cyc_df.dtypes"
   ]
  },
  {
   "cell_type": "code",
   "execution_count": 267,
   "id": "1da487ba",
   "metadata": {},
   "outputs": [
    {
     "data": {
      "text/html": [
       "<div>\n",
       "<style scoped>\n",
       "    .dataframe tbody tr th:only-of-type {\n",
       "        vertical-align: middle;\n",
       "    }\n",
       "\n",
       "    .dataframe tbody tr th {\n",
       "        vertical-align: top;\n",
       "    }\n",
       "\n",
       "    .dataframe thead th {\n",
       "        text-align: right;\n",
       "    }\n",
       "</style>\n",
       "<table border=\"1\" class=\"dataframe\">\n",
       "  <thead>\n",
       "    <tr style=\"text-align: right;\">\n",
       "      <th></th>\n",
       "      <th>Year</th>\n",
       "      <th>TypeName</th>\n",
       "      <th>Wind(km/h)</th>\n",
       "      <th>Pressure(mb)</th>\n",
       "    </tr>\n",
       "  </thead>\n",
       "  <tbody>\n",
       "    <tr>\n",
       "      <th>0</th>\n",
       "      <td>2021.0</td>\n",
       "      <td>Typhoon</td>\n",
       "      <td>170.0</td>\n",
       "      <td>962.0</td>\n",
       "    </tr>\n",
       "    <tr>\n",
       "      <th>1</th>\n",
       "      <td>2021.0</td>\n",
       "      <td>Typhoon</td>\n",
       "      <td>165.0</td>\n",
       "      <td>957.0</td>\n",
       "    </tr>\n",
       "    <tr>\n",
       "      <th>2</th>\n",
       "      <td>2021.0</td>\n",
       "      <td>Typhoon</td>\n",
       "      <td>170.0</td>\n",
       "      <td>962.0</td>\n",
       "    </tr>\n",
       "    <tr>\n",
       "      <th>3</th>\n",
       "      <td>2021.0</td>\n",
       "      <td>Typhoon</td>\n",
       "      <td>175.0</td>\n",
       "      <td>963.0</td>\n",
       "    </tr>\n",
       "    <tr>\n",
       "      <th>4</th>\n",
       "      <td>2021.0</td>\n",
       "      <td>Typhoon</td>\n",
       "      <td>120.0</td>\n",
       "      <td>985.0</td>\n",
       "    </tr>\n",
       "  </tbody>\n",
       "</table>\n",
       "</div>"
      ],
      "text/plain": [
       "     Year TypeName  Wind(km/h)  Pressure(mb)\n",
       "0  2021.0  Typhoon       170.0         962.0\n",
       "1  2021.0  Typhoon       165.0         957.0\n",
       "2  2021.0  Typhoon       170.0         962.0\n",
       "3  2021.0  Typhoon       175.0         963.0\n",
       "4  2021.0  Typhoon       120.0         985.0"
      ]
     },
     "execution_count": 267,
     "metadata": {},
     "output_type": "execute_result"
    }
   ],
   "source": [
    "cyc_df.head()"
   ]
  },
  {
   "cell_type": "code",
   "execution_count": 268,
   "id": "df0390fb",
   "metadata": {},
   "outputs": [
    {
     "data": {
      "text/plain": [
       "Year            float64\n",
       "TypeName         object\n",
       "Wind(km/h)      float64\n",
       "Pressure(mb)    float64\n",
       "dtype: object"
      ]
     },
     "execution_count": 268,
     "metadata": {},
     "output_type": "execute_result"
    }
   ],
   "source": [
    "cyc_df.dtypes\n",
    "#cyc_df.Year = pd.to_datetime(cyc_df.Year ,format='%Y')\n",
    "# pd.to_datetime(df.Year, format='%Y')"
   ]
  },
  {
   "cell_type": "code",
   "execution_count": 269,
   "id": "34a8fa31",
   "metadata": {},
   "outputs": [
    {
     "data": {
      "text/plain": [
       "Year            float64\n",
       "TypeName         object\n",
       "Wind(km/h)      float64\n",
       "Pressure(mb)    float64\n",
       "dtype: object"
      ]
     },
     "execution_count": 269,
     "metadata": {},
     "output_type": "execute_result"
    }
   ],
   "source": [
    "cyc_df.dtypes"
   ]
  },
  {
   "cell_type": "code",
   "execution_count": 270,
   "id": "c7c5c49c",
   "metadata": {},
   "outputs": [
    {
     "data": {
      "text/plain": [
       "Year            3\n",
       "TypeName        2\n",
       "Wind(km/h)      2\n",
       "Pressure(mb)    2\n",
       "dtype: int64"
      ]
     },
     "execution_count": 270,
     "metadata": {},
     "output_type": "execute_result"
    }
   ],
   "source": [
    "cyc_df.isnull().sum()"
   ]
  },
  {
   "cell_type": "code",
   "execution_count": 271,
   "id": "f8b1f7f7",
   "metadata": {},
   "outputs": [],
   "source": [
    "#df.dropna(),missing values\n",
    "cyc_df.dropna(inplace=True)\n",
    "#df.dropna(how='any',axis=0)"
   ]
  },
  {
   "cell_type": "code",
   "execution_count": 272,
   "id": "07d4ef17",
   "metadata": {},
   "outputs": [
    {
     "data": {
      "text/plain": [
       "Year            0\n",
       "TypeName        0\n",
       "Wind(km/h)      0\n",
       "Pressure(mb)    0\n",
       "dtype: int64"
      ]
     },
     "execution_count": 272,
     "metadata": {},
     "output_type": "execute_result"
    }
   ],
   "source": [
    "cyc_df.isnull().sum()"
   ]
  },
  {
   "cell_type": "code",
   "execution_count": 273,
   "id": "59aa3d51",
   "metadata": {},
   "outputs": [
    {
     "data": {
      "text/plain": [
       "Year            float64\n",
       "TypeName         object\n",
       "Wind(km/h)      float64\n",
       "Pressure(mb)    float64\n",
       "dtype: object"
      ]
     },
     "execution_count": 273,
     "metadata": {},
     "output_type": "execute_result"
    }
   ],
   "source": [
    "cyc_df.dtypes"
   ]
  },
  {
   "cell_type": "code",
   "execution_count": 274,
   "id": "fe31f9e2",
   "metadata": {},
   "outputs": [
    {
     "data": {
      "text/plain": [
       "TROPICAL STORM           53\n",
       "TROPICAL DEPRESSION      50\n",
       "Typhoon                  41\n",
       "SEVERE TROPICAL STORM    27\n",
       "Name: TypeName, dtype: int64"
      ]
     },
     "execution_count": 274,
     "metadata": {},
     "output_type": "execute_result"
    }
   ],
   "source": [
    "cyc_df.TypeName.value_counts()"
   ]
  },
  {
   "cell_type": "code",
   "execution_count": 275,
   "id": "128f7df7",
   "metadata": {},
   "outputs": [],
   "source": [
    "# height=4, aspect=.7"
   ]
  },
  {
   "cell_type": "code",
   "execution_count": 276,
   "id": "689adc3d",
   "metadata": {},
   "outputs": [
    {
     "name": "stderr",
     "output_type": "stream",
     "text": [
      "/Users/n.sunik/opt/anaconda3/lib/python3.9/site-packages/seaborn/categorical.py:3717: UserWarning: The `factorplot` function has been renamed to `catplot`. The original name will be removed in a future release. Please update your code. Note that the default `kind` in `factorplot` (`'point'`) has changed `'strip'` in `catplot`.\n",
      "  warnings.warn(msg)\n",
      "/Users/n.sunik/opt/anaconda3/lib/python3.9/site-packages/seaborn/_decorators.py:36: FutureWarning: Pass the following variable as a keyword arg: x. From version 0.12, the only valid positional argument will be `data`, and passing other arguments without an explicit keyword will result in an error or misinterpretation.\n",
      "  warnings.warn(\n"
     ]
    },
    {
     "data": {
      "text/plain": [
       "<seaborn.axisgrid.FacetGrid at 0x7fb6fa251cd0>"
      ]
     },
     "execution_count": 276,
     "metadata": {},
     "output_type": "execute_result"
    },
    {
     "data": {
      "image/png": "[encoded data removed]",
      "text/plain": [
       "<Figure size 1296x432 with 1 Axes>"
      ]
     },
     "metadata": {
      "needs_background": "light"
     },
     "output_type": "display_data"
    }
   ],
   "source": [
    "sns.factorplot('Year',data=cyc_df,kind='count',height=6,aspect=3)\n",
    "#plt.figure(figsize=(15,12))\n",
    "#date\n",
    "#plt.figure(figsize=(20,20))"
   ]
  },
  {
   "cell_type": "code",
   "execution_count": 277,
   "id": "9f6c6f78",
   "metadata": {},
   "outputs": [
    {
     "name": "stderr",
     "output_type": "stream",
     "text": [
      "/Users/n.sunik/opt/anaconda3/lib/python3.9/site-packages/seaborn/categorical.py:3717: UserWarning: The `factorplot` function has been renamed to `catplot`. The original name will be removed in a future release. Please update your code. Note that the default `kind` in `factorplot` (`'point'`) has changed `'strip'` in `catplot`.\n",
      "  warnings.warn(msg)\n",
      "/Users/n.sunik/opt/anaconda3/lib/python3.9/site-packages/seaborn/_decorators.py:36: FutureWarning: Pass the following variable as a keyword arg: x. From version 0.12, the only valid positional argument will be `data`, and passing other arguments without an explicit keyword will result in an error or misinterpretation.\n",
      "  warnings.warn(\n"
     ]
    },
    {
     "data": {
      "text/plain": [
       "<Figure size 1440x1440 with 0 Axes>"
      ]
     },
     "execution_count": 277,
     "metadata": {},
     "output_type": "execute_result"
    },
    {
     "data": {
      "image/png": "[encoded data removed]",
      "text/plain": [
       "<Figure size 1296x432 with 1 Axes>"
      ]
     },
     "metadata": {
      "needs_background": "light"
     },
     "output_type": "display_data"
    },
    {
     "data": {
      "text/plain": [
       "<Figure size 1440x1440 with 0 Axes>"
      ]
     },
     "metadata": {},
     "output_type": "display_data"
    }
   ],
   "source": [
    "sns.factorplot('TypeName',data=cyc_df,kind='count',height=6,aspect=3)\n",
    "#plt.figure(figsize=(15,12))\n",
    "#date\n",
    "plt.figure(figsize=(20,20))"
   ]
  },
  {
   "cell_type": "code",
   "execution_count": 278,
   "id": "79a85014",
   "metadata": {},
   "outputs": [
    {
     "data": {
      "text/plain": [
       "<Figure size 504x288 with 0 Axes>"
      ]
     },
     "execution_count": 278,
     "metadata": {},
     "output_type": "execute_result"
    },
    {
     "data": {
      "image/png": "[encoded data removed]",
      "text/plain": [
       "<Figure size 432x288 with 1 Axes>"
      ]
     },
     "metadata": {
      "needs_background": "light"
     },
     "output_type": "display_data"
    },
    {
     "data": {
      "text/plain": [
       "<Figure size 504x288 with 0 Axes>"
      ]
     },
     "metadata": {},
     "output_type": "display_data"
    }
   ],
   "source": [
    "# histograms\n",
    "cyc_df['TypeName'].hist()\n",
    "#figure(figsize=(20,20))\n",
    "plt.figure(figsize=(7,4))"
   ]
  },
  {
   "cell_type": "code",
   "execution_count": 279,
   "id": "1d5421f6",
   "metadata": {},
   "outputs": [
    {
     "data": {
      "text/plain": [
       "0             Typhoon\n",
       "1             Typhoon\n",
       "2             Typhoon\n",
       "3             Typhoon\n",
       "4             Typhoon\n",
       "            ...      \n",
       "169    TROPICAL STORM\n",
       "170    TROPICAL STORM\n",
       "171    TROPICAL STORM\n",
       "172    TROPICAL STORM\n",
       "173    TROPICAL STORM\n",
       "Name: TypeName, Length: 171, dtype: object"
      ]
     },
     "execution_count": 279,
     "metadata": {},
     "output_type": "execute_result"
    }
   ],
   "source": [
    "cyc_df['TypeName']"
   ]
  },
  {
   "cell_type": "code",
   "execution_count": 280,
   "id": "cc747c95",
   "metadata": {},
   "outputs": [],
   "source": [
    "#cyc_df['Type'].dropna([Type.s,Type.ss],inplace=True)"
   ]
  },
  {
   "cell_type": "code",
   "execution_count": 281,
   "id": "1e5a39e2",
   "metadata": {},
   "outputs": [
    {
     "data": {
      "text/plain": [
       "<AxesSubplot:>"
      ]
     },
     "execution_count": 281,
     "metadata": {},
     "output_type": "execute_result"
    },
    {
     "data": {
      "image/png": "[encoded data removed]",
      "text/plain": [
       "<Figure size 432x288 with 1 Axes>"
      ]
     },
     "metadata": {
      "needs_background": "light"
     },
     "output_type": "display_data"
    }
   ],
   "source": [
    "# histograms\n",
    "cyc_df['Year'].hist()"
   ]
  },
  {
   "cell_type": "code",
   "execution_count": 282,
   "id": "ff76f23f",
   "metadata": {},
   "outputs": [
    {
     "data": {
      "text/plain": [
       "<AxesSubplot:>"
      ]
     },
     "execution_count": 282,
     "metadata": {},
     "output_type": "execute_result"
    },
    {
     "data": {
      "image/png": "[encoded data removed]",
      "text/plain": [
       "<Figure size 432x288 with 1 Axes>"
      ]
     },
     "metadata": {
      "needs_background": "light"
     },
     "output_type": "display_data"
    }
   ],
   "source": [
    "# histograms\n",
    "cyc_df['Wind(km/h)'].hist()"
   ]
  },
  {
   "cell_type": "code",
   "execution_count": 283,
   "id": "dcfc49a3",
   "metadata": {},
   "outputs": [],
   "source": [
    "#not distributed properly"
   ]
  },
  {
   "cell_type": "code",
   "execution_count": 284,
   "id": "abf72520",
   "metadata": {},
   "outputs": [
    {
     "data": {
      "text/plain": [
       "<AxesSubplot:>"
      ]
     },
     "execution_count": 284,
     "metadata": {},
     "output_type": "execute_result"
    },
    {
     "data": {
      "image/png": "[encoded data removed]",
      "text/plain": [
       "<Figure size 432x288 with 1 Axes>"
      ]
     },
     "metadata": {
      "needs_background": "light"
     },
     "output_type": "display_data"
    }
   ],
   "source": [
    "# histograms\n",
    "cyc_df['Pressure(mb)'].hist()"
   ]
  },
  {
   "cell_type": "markdown",
   "id": "d43d45fd",
   "metadata": {},
   "source": [
    "#left skewed"
   ]
  },
  {
   "cell_type": "code",
   "execution_count": 285,
   "id": "89720702",
   "metadata": {},
   "outputs": [
    {
     "data": {
      "text/plain": [
       "<AxesSubplot:xlabel='TypeName', ylabel='Wind(km/h)'>"
      ]
     },
     "execution_count": 285,
     "metadata": {},
     "output_type": "execute_result"
    },
    {
     "data": {
      "image/png": "[encoded data removed]",
      "text/plain": [
       "<Figure size 504x288 with 1 Axes>"
      ]
     },
     "metadata": {
      "needs_background": "light"
     },
     "output_type": "display_data"
    }
   ],
   "source": [
    "plt.figure(figsize=(7,4))\n",
    "sns.lineplot(y=cyc_df['Wind(km/h)'], x=cyc_df['TypeName'])"
   ]
  },
  {
   "cell_type": "code",
   "execution_count": 286,
   "id": "4fcb2c79",
   "metadata": {},
   "outputs": [],
   "source": [
    "#left skewed"
   ]
  },
  {
   "cell_type": "code",
   "execution_count": 287,
   "id": "fb7a5a7c",
   "metadata": {},
   "outputs": [
    {
     "data": {
      "text/plain": [
       "<AxesSubplot:xlabel='Wind(km/h)', ylabel='TypeName'>"
      ]
     },
     "execution_count": 287,
     "metadata": {},
     "output_type": "execute_result"
    },
    {
     "data": {
      "image/png": "[encoded data removed]",
      "text/plain": [
       "<Figure size 432x288 with 1 Axes>"
      ]
     },
     "metadata": {
      "needs_background": "light"
     },
     "output_type": "display_data"
    }
   ],
   "source": [
    "#plt.figure(figsize=(7,4))\n",
    "sns.lineplot(x=cyc_df['Wind(km/h)'], y=cyc_df['TypeName'])"
   ]
  },
  {
   "cell_type": "code",
   "execution_count": 288,
   "id": "7b719ee5",
   "metadata": {},
   "outputs": [],
   "source": [
    "#Typhoon has a maximum windspeed\n",
    "#Tropical strom minimum wind speed"
   ]
  },
  {
   "cell_type": "code",
   "execution_count": 289,
   "id": "38c872e9",
   "metadata": {},
   "outputs": [
    {
     "data": {
      "text/plain": [
       "<AxesSubplot:xlabel='Wind(km/h)', ylabel='Pressure(mb)'>"
      ]
     },
     "execution_count": 289,
     "metadata": {},
     "output_type": "execute_result"
    },
    {
     "data": {
      "image/png": "[encoded data removed]",
      "text/plain": [
       "<Figure size 504x288 with 1 Axes>"
      ]
     },
     "metadata": {
      "needs_background": "light"
     },
     "output_type": "display_data"
    }
   ],
   "source": [
    "plt.figure(figsize=(7,4))\n",
    "sns.lineplot(x=cyc_df['Wind(km/h)'], y=cyc_df['Pressure(mb)'])"
   ]
  },
  {
   "cell_type": "markdown",
   "id": "ee7374b4",
   "metadata": {},
   "source": [
    "#when pressure is high wind speed is low"
   ]
  },
  {
   "cell_type": "code",
   "execution_count": 290,
   "id": "7295f51a",
   "metadata": {},
   "outputs": [
    {
     "data": {
      "text/plain": [
       "<AxesSubplot:xlabel='Wind(km/h)', ylabel='TypeName'>"
      ]
     },
     "execution_count": 290,
     "metadata": {},
     "output_type": "execute_result"
    },
    {
     "data": {
      "image/png": "[encoded data removed]",
      "text/plain": [
       "<Figure size 504x288 with 1 Axes>"
      ]
     },
     "metadata": {
      "needs_background": "light"
     },
     "output_type": "display_data"
    }
   ],
   "source": [
    "plt.figure(figsize=(7,4))\n",
    "sns.lineplot(x=cyc_df['Wind(km/h)'], y=cyc_df['TypeName'])"
   ]
  },
  {
   "cell_type": "code",
   "execution_count": 291,
   "id": "eb473ba2",
   "metadata": {},
   "outputs": [
    {
     "data": {
      "text/plain": [
       "Text(0.5, 1.0, 'Year vs Type')"
      ]
     },
     "execution_count": 291,
     "metadata": {},
     "output_type": "execute_result"
    },
    {
     "data": {
      "image/png": "[encoded data removed]",
      "text/plain": [
       "<Figure size 504x288 with 1 Axes>"
      ]
     },
     "metadata": {
      "needs_background": "light"
     },
     "output_type": "display_data"
    }
   ],
   "source": [
    "#date\n",
    "plt.figure(figsize=(7,4))\n",
    "sns.scatterplot(x=cyc_df['Year'], y=cyc_df['TypeName'])\n",
    "plt.title('Year vs Type')"
   ]
  },
  {
   "cell_type": "code",
   "execution_count": 292,
   "id": "affb6113",
   "metadata": {},
   "outputs": [
    {
     "data": {
      "text/plain": [
       "Text(0.5, 1.0, 'Year vs Type')"
      ]
     },
     "execution_count": 292,
     "metadata": {},
     "output_type": "execute_result"
    },
    {
     "data": {
      "image/png": "[encoded data removed]",
      "text/plain": [
       "<Figure size 504x288 with 1 Axes>"
      ]
     },
     "metadata": {
      "needs_background": "light"
     },
     "output_type": "display_data"
    }
   ],
   "source": [
    "#date\n",
    "plt.figure(figsize=(7,4))\n",
    "sns.scatterplot(x=cyc_df['Wind(km/h)'], y=cyc_df['TypeName'])\n",
    "plt.title('Year vs Type')"
   ]
  },
  {
   "cell_type": "code",
   "execution_count": 293,
   "id": "5fb41283",
   "metadata": {},
   "outputs": [
    {
     "data": {
      "text/plain": [
       "Text(0.5, 1.0, 'Pressure(mb) vs TypeName')"
      ]
     },
     "execution_count": 293,
     "metadata": {},
     "output_type": "execute_result"
    },
    {
     "data": {
      "image/png": "[encoded data removed]",
      "text/plain": [
       "<Figure size 504x288 with 1 Axes>"
      ]
     },
     "metadata": {
      "needs_background": "light"
     },
     "output_type": "display_data"
    }
   ],
   "source": [
    "#date\n",
    "plt.figure(figsize=(7,4))\n",
    "sns.scatterplot(x=cyc_df['Pressure(mb)'], y=cyc_df['TypeName'])\n",
    "plt.title('Pressure(mb) vs TypeName')"
   ]
  },
  {
   "cell_type": "code",
   "execution_count": 294,
   "id": "06601f53",
   "metadata": {},
   "outputs": [
    {
     "data": {
      "text/plain": [
       "Index(['Year', 'TypeName', 'Wind(km/h)', 'Pressure(mb)'], dtype='object')"
      ]
     },
     "execution_count": 294,
     "metadata": {},
     "output_type": "execute_result"
    }
   ],
   "source": [
    "cyc_df.columns"
   ]
  },
  {
   "cell_type": "code",
   "execution_count": 295,
   "id": "9df7754c",
   "metadata": {},
   "outputs": [
    {
     "data": {
      "text/plain": [
       "TROPICAL STORM           53\n",
       "TROPICAL DEPRESSION      50\n",
       "Typhoon                  41\n",
       "SEVERE TROPICAL STORM    27\n",
       "Name: TypeName, dtype: int64"
      ]
     },
     "execution_count": 295,
     "metadata": {},
     "output_type": "execute_result"
    }
   ],
   "source": [
    "cyc_df['TypeName'].value_counts()"
   ]
  },
  {
   "cell_type": "code",
   "execution_count": 296,
   "id": "c1cbe469",
   "metadata": {},
   "outputs": [
    {
     "data": {
      "text/plain": [
       "4"
      ]
     },
     "execution_count": 296,
     "metadata": {},
     "output_type": "execute_result"
    }
   ],
   "source": [
    "len(TypeName)"
   ]
  },
  {
   "cell_type": "code",
   "execution_count": 297,
   "id": "54db233a",
   "metadata": {},
   "outputs": [],
   "source": [
    "# scatterplot\n",
    "colors = ['red', 'orange', 'blue','green']\n",
    "TypeName = ['TROPICAL STORM','TROPICAL DEPRESSION','Typhoon','SEVERE TROPICAL STORM']"
   ]
  },
  {
   "cell_type": "code",
   "execution_count": 298,
   "id": "509e87dd",
   "metadata": {},
   "outputs": [
    {
     "data": {
      "text/plain": [
       "<matplotlib.legend.Legend at 0x7fb6fa618c40>"
      ]
     },
     "execution_count": 298,
     "metadata": {},
     "output_type": "execute_result"
    },
    {
     "data": {
      "image/png": "[encoded data removed]",
      "text/plain": [
       "<Figure size 432x288 with 1 Axes>"
      ]
     },
     "metadata": {
      "needs_background": "light"
     },
     "output_type": "display_data"
    }
   ],
   "source": [
    "for i in range(len(TypeName)):\n",
    "    x =cyc_df[cyc_df['TypeName'] == TypeName[i]]\n",
    "    plt.scatter(x['Wind(km/h)'], x['Pressure(mb)'], c = colors[i], label=TypeName[i])\n",
    "plt.xlabel(\"Wind(km/h)\")\n",
    "plt.ylabel(\"Pressure(mb)\")\n",
    "plt.legend()"
   ]
  },
  {
   "cell_type": "code",
   "execution_count": 299,
   "id": "3007d1f3",
   "metadata": {},
   "outputs": [
    {
     "data": {
      "text/html": [
       "<div>\n",
       "<style scoped>\n",
       "    .dataframe tbody tr th:only-of-type {\n",
       "        vertical-align: middle;\n",
       "    }\n",
       "\n",
       "    .dataframe tbody tr th {\n",
       "        vertical-align: top;\n",
       "    }\n",
       "\n",
       "    .dataframe thead th {\n",
       "        text-align: right;\n",
       "    }\n",
       "</style>\n",
       "<table border=\"1\" class=\"dataframe\">\n",
       "  <thead>\n",
       "    <tr style=\"text-align: right;\">\n",
       "      <th></th>\n",
       "      <th>Year</th>\n",
       "      <th>Wind(km/h)</th>\n",
       "      <th>Pressure(mb)</th>\n",
       "    </tr>\n",
       "  </thead>\n",
       "  <tbody>\n",
       "    <tr>\n",
       "      <th>Year</th>\n",
       "      <td>1.000000</td>\n",
       "      <td>0.539226</td>\n",
       "      <td>-0.425370</td>\n",
       "    </tr>\n",
       "    <tr>\n",
       "      <th>Wind(km/h)</th>\n",
       "      <td>0.539226</td>\n",
       "      <td>1.000000</td>\n",
       "      <td>-0.959354</td>\n",
       "    </tr>\n",
       "    <tr>\n",
       "      <th>Pressure(mb)</th>\n",
       "      <td>-0.425370</td>\n",
       "      <td>-0.959354</td>\n",
       "      <td>1.000000</td>\n",
       "    </tr>\n",
       "  </tbody>\n",
       "</table>\n",
       "</div>"
      ],
      "text/plain": [
       "                  Year  Wind(km/h)  Pressure(mb)\n",
       "Year          1.000000    0.539226     -0.425370\n",
       "Wind(km/h)    0.539226    1.000000     -0.959354\n",
       "Pressure(mb) -0.425370   -0.959354      1.000000"
      ]
     },
     "execution_count": 299,
     "metadata": {},
     "output_type": "execute_result"
    }
   ],
   "source": [
    "cyc_df.corr()"
   ]
  },
  {
   "cell_type": "code",
   "execution_count": 300,
   "id": "9e0fc819",
   "metadata": {},
   "outputs": [
    {
     "data": {
      "text/plain": [
       "<AxesSubplot:>"
      ]
     },
     "execution_count": 300,
     "metadata": {},
     "output_type": "execute_result"
    },
    {
     "data": {
      "image/png": "[encoded data removed]",
      "text/plain": [
       "<Figure size 360x288 with 2 Axes>"
      ]
     },
     "metadata": {
      "needs_background": "light"
     },
     "output_type": "display_data"
    }
   ],
   "source": [
    "corr = cyc_df.corr()\n",
    "fig, ax = plt.subplots(figsize=(5,4))\n",
    "sns.heatmap(corr, annot=True, ax=ax, cmap = 'coolwarm')"
   ]
  },
  {
   "cell_type": "code",
   "execution_count": 301,
   "id": "bbb16e4f",
   "metadata": {},
   "outputs": [
    {
     "data": {
      "text/html": [
       "<div>\n",
       "<style scoped>\n",
       "    .dataframe tbody tr th:only-of-type {\n",
       "        vertical-align: middle;\n",
       "    }\n",
       "\n",
       "    .dataframe tbody tr th {\n",
       "        vertical-align: top;\n",
       "    }\n",
       "\n",
       "    .dataframe thead th {\n",
       "        text-align: right;\n",
       "    }\n",
       "</style>\n",
       "<table border=\"1\" class=\"dataframe\">\n",
       "  <thead>\n",
       "    <tr style=\"text-align: right;\">\n",
       "      <th></th>\n",
       "      <th>Year</th>\n",
       "      <th>TypeName</th>\n",
       "      <th>Wind(km/h)</th>\n",
       "      <th>Pressure(mb)</th>\n",
       "    </tr>\n",
       "  </thead>\n",
       "  <tbody>\n",
       "    <tr>\n",
       "      <th>0</th>\n",
       "      <td>2021.0</td>\n",
       "      <td>Typhoon</td>\n",
       "      <td>170.0</td>\n",
       "      <td>962.0</td>\n",
       "    </tr>\n",
       "    <tr>\n",
       "      <th>1</th>\n",
       "      <td>2021.0</td>\n",
       "      <td>Typhoon</td>\n",
       "      <td>165.0</td>\n",
       "      <td>957.0</td>\n",
       "    </tr>\n",
       "    <tr>\n",
       "      <th>2</th>\n",
       "      <td>2021.0</td>\n",
       "      <td>Typhoon</td>\n",
       "      <td>170.0</td>\n",
       "      <td>962.0</td>\n",
       "    </tr>\n",
       "    <tr>\n",
       "      <th>3</th>\n",
       "      <td>2021.0</td>\n",
       "      <td>Typhoon</td>\n",
       "      <td>175.0</td>\n",
       "      <td>963.0</td>\n",
       "    </tr>\n",
       "    <tr>\n",
       "      <th>4</th>\n",
       "      <td>2021.0</td>\n",
       "      <td>Typhoon</td>\n",
       "      <td>120.0</td>\n",
       "      <td>985.0</td>\n",
       "    </tr>\n",
       "  </tbody>\n",
       "</table>\n",
       "</div>"
      ],
      "text/plain": [
       "     Year TypeName  Wind(km/h)  Pressure(mb)\n",
       "0  2021.0  Typhoon       170.0         962.0\n",
       "1  2021.0  Typhoon       165.0         957.0\n",
       "2  2021.0  Typhoon       170.0         962.0\n",
       "3  2021.0  Typhoon       175.0         963.0\n",
       "4  2021.0  Typhoon       120.0         985.0"
      ]
     },
     "execution_count": 301,
     "metadata": {},
     "output_type": "execute_result"
    }
   ],
   "source": [
    "cyc_df.head()"
   ]
  },
  {
   "cell_type": "code",
   "execution_count": 302,
   "id": "5cb13205",
   "metadata": {},
   "outputs": [],
   "source": [
    "#from sklearn import preprocessing\n",
    "#le = preprocessing.LabelEncoder()\n",
    "from sklearn.preprocessing import LabelEncoder\n",
    "le = LabelEncoder()"
   ]
  },
  {
   "cell_type": "code",
   "execution_count": 303,
   "id": "39c16a8a",
   "metadata": {
    "scrolled": true
   },
   "outputs": [],
   "source": [
    "#cyc_df['TypeName'] = le.fit_transform(cyc_df['TypeName'])\n",
    "#cyc_df.head()"
   ]
  },
  {
   "cell_type": "code",
   "execution_count": 304,
   "id": "dee018f1",
   "metadata": {},
   "outputs": [],
   "source": [
    "from sklearn.model_selection import train_test_split\n",
    "X = cyc_df.drop(columns=['TypeName'])\n",
    "Y = cyc_df['TypeName']\n",
    "x_train, x_test, y_train, y_test = train_test_split(X, Y, test_size=0.30) # train-70, test-30\n",
    "\n",
    "#OR\n",
    "\n",
    "#from sklearn import model_selection\n",
    "#te = model_selection.train_test_split\n",
    "#X = df.drop(columns=['Species'])\n",
    "#Y = df['Species']\n",
    "#x_train, x_test, y_train, y_test = te(X, Y, test_size=0.30)'"
   ]
  },
  {
   "cell_type": "code",
   "execution_count": 305,
   "id": "411b73da",
   "metadata": {},
   "outputs": [],
   "source": [
    "# logistic regression \n",
    "from sklearn.linear_model import LogisticRegression\n",
    "model = LogisticRegression(max_iter=700)\n",
    "#OR\n",
    "\n",
    "#from sklearn import linear_model\n",
    "#model = linear_model.LogisticRegression()"
   ]
  },
  {
   "cell_type": "code",
   "execution_count": 306,
   "id": "6956bad2",
   "metadata": {},
   "outputs": [
    {
     "data": {
      "text/plain": [
       "LogisticRegression(max_iter=700)"
      ]
     },
     "execution_count": 306,
     "metadata": {},
     "output_type": "execute_result"
    }
   ],
   "source": [
    "# model training\n",
    "model.fit(x_train, y_train)"
   ]
  },
  {
   "cell_type": "code",
   "execution_count": 307,
   "id": "52c68ef6",
   "metadata": {},
   "outputs": [
    {
     "name": "stdout",
     "output_type": "stream",
     "text": [
      "Accuracy:  96.15384615384616\n"
     ]
    }
   ],
   "source": [
    "# print metric to get performance\n",
    "print(\"Accuracy: \",model.score(x_test, y_test) * 100)"
   ]
  },
  {
   "cell_type": "code",
   "execution_count": 308,
   "id": "f67b24d4",
   "metadata": {},
   "outputs": [],
   "source": [
    "# print metric to get performance\n",
    "#print(\"Accuracy: \",model.score(x_test, y_test) * 100)"
   ]
  },
  {
   "cell_type": "code",
   "execution_count": 309,
   "id": "566c2e5d",
   "metadata": {},
   "outputs": [],
   "source": [
    "# knn - k-nearest neighbours\n",
    "from sklearn.neighbors import KNeighborsClassifier\n",
    "model = KNeighborsClassifier()"
   ]
  },
  {
   "cell_type": "code",
   "execution_count": 310,
   "id": "01a8108f",
   "metadata": {},
   "outputs": [
    {
     "data": {
      "text/plain": [
       "KNeighborsClassifier()"
      ]
     },
     "execution_count": 310,
     "metadata": {},
     "output_type": "execute_result"
    }
   ],
   "source": [
    "model.fit(x_train, y_train)"
   ]
  },
  {
   "cell_type": "code",
   "execution_count": 311,
   "id": "ab0b8617",
   "metadata": {},
   "outputs": [
    {
     "name": "stdout",
     "output_type": "stream",
     "text": [
      "Accuracy:  96.15384615384616\n"
     ]
    }
   ],
   "source": [
    "# print metric to get performance\n",
    "print(\"Accuracy: \",model.score(x_test, y_test) * 100)"
   ]
  },
  {
   "cell_type": "code",
   "execution_count": 312,
   "id": "f570bf80",
   "metadata": {},
   "outputs": [],
   "source": [
    "# print metric to get performance\n",
    "#print(\"Accuracy: \",model.score(x_test, y_test) * 100)"
   ]
  },
  {
   "cell_type": "code",
   "execution_count": 313,
   "id": "08f98f53",
   "metadata": {},
   "outputs": [],
   "source": [
    "# decision tree\n",
    "from sklearn.tree import DecisionTreeClassifier\n",
    "model = DecisionTreeClassifier()"
   ]
  },
  {
   "cell_type": "code",
   "execution_count": 314,
   "id": "7c1c88e0",
   "metadata": {},
   "outputs": [
    {
     "data": {
      "text/plain": [
       "DecisionTreeClassifier()"
      ]
     },
     "execution_count": 314,
     "metadata": {},
     "output_type": "execute_result"
    }
   ],
   "source": [
    "model.fit(x_train, y_train)"
   ]
  },
  {
   "cell_type": "code",
   "execution_count": 315,
   "id": "785743e0",
   "metadata": {},
   "outputs": [
    {
     "name": "stdout",
     "output_type": "stream",
     "text": [
      "Accuracy:  94.23076923076923\n"
     ]
    }
   ],
   "source": [
    "# print metric to get performance\n",
    "print(\"Accuracy: \",model.score(x_test, y_test) * 100)"
   ]
  },
  {
   "cell_type": "code",
   "execution_count": 316,
   "id": "f0b5b471",
   "metadata": {},
   "outputs": [],
   "source": [
    "# print metric to get performance\n",
    "#print(\"Accuracy: \",model.score(x_test, y_test) * 100)"
   ]
  },
  {
   "cell_type": "code",
   "execution_count": 317,
   "id": "f03b88dc",
   "metadata": {},
   "outputs": [],
   "source": [
    "# decision tree\n",
    "from sklearn.tree import DecisionTreeClassifier\n",
    "model = DecisionTreeClassifier()"
   ]
  },
  {
   "cell_type": "code",
   "execution_count": 318,
   "id": "d9f43943",
   "metadata": {},
   "outputs": [
    {
     "data": {
      "text/plain": [
       "DecisionTreeClassifier()"
      ]
     },
     "execution_count": 318,
     "metadata": {},
     "output_type": "execute_result"
    }
   ],
   "source": [
    "model.fit(x_train, y_train)"
   ]
  },
  {
   "cell_type": "code",
   "execution_count": 319,
   "id": "0af47ce7",
   "metadata": {},
   "outputs": [
    {
     "name": "stdout",
     "output_type": "stream",
     "text": [
      "Accuracy:  94.23076923076923\n"
     ]
    }
   ],
   "source": [
    "# print metric to get performance\n",
    "print(\"Accuracy: \",model.score(x_test, y_test) * 100)"
   ]
  },
  {
   "cell_type": "markdown",
   "id": "6b90e747",
   "metadata": {},
   "source": [
    "# Testing with other data"
   ]
  },
  {
   "cell_type": "code",
   "execution_count": null,
   "id": "20e5bf9a",
   "metadata": {},
   "outputs": [],
   "source": [
    "The Test csv file contains 10 cyclone Type classification \n",
    "when testing done with test set it picked the 10 Type of classification"
   ]
  },
  {
   "cell_type": "code",
   "execution_count": 320,
   "id": "aafd084e",
   "metadata": {},
   "outputs": [],
   "source": [
    "#cyc_df=pd.read_excel('/Users/n.sunik/Downloads/Cyclone Excel File.xlsx')\n",
    "#/Users/n.sunik/IBM_Internship"
   ]
  },
  {
   "cell_type": "code",
   "execution_count": 321,
   "id": "5ed22ad6",
   "metadata": {},
   "outputs": [],
   "source": [
    "cyc_df1=pd.read_csv('/Users/n.sunik/Pictures/Cyclone _Dataset_4.csv')\n",
    "#/Users/n.sunik/IBM_Internship"
   ]
  },
  {
   "cell_type": "code",
   "execution_count": 322,
   "id": "9a8190f1",
   "metadata": {},
   "outputs": [
    {
     "data": {
      "text/html": [
       "<div>\n",
       "<style scoped>\n",
       "    .dataframe tbody tr th:only-of-type {\n",
       "        vertical-align: middle;\n",
       "    }\n",
       "\n",
       "    .dataframe tbody tr th {\n",
       "        vertical-align: top;\n",
       "    }\n",
       "\n",
       "    .dataframe thead th {\n",
       "        text-align: right;\n",
       "    }\n",
       "</style>\n",
       "<table border=\"1\" class=\"dataframe\">\n",
       "  <thead>\n",
       "    <tr style=\"text-align: right;\">\n",
       "      <th></th>\n",
       "      <th>Sl No.</th>\n",
       "      <th>Name</th>\n",
       "      <th>Year</th>\n",
       "      <th>Date</th>\n",
       "      <th>Time</th>\n",
       "      <th>Type</th>\n",
       "      <th>Wind Speed</th>\n",
       "      <th>Pressure</th>\n",
       "    </tr>\n",
       "  </thead>\n",
       "  <tbody>\n",
       "    <tr>\n",
       "      <th>0</th>\n",
       "      <td>1</td>\n",
       "      <td>Fani</td>\n",
       "      <td>2019</td>\n",
       "      <td>3-May</td>\n",
       "      <td>11:30 AM</td>\n",
       "      <td>EC</td>\n",
       "      <td>215</td>\n",
       "      <td>942</td>\n",
       "    </tr>\n",
       "    <tr>\n",
       "      <th>1</th>\n",
       "      <td>2</td>\n",
       "      <td>Fani</td>\n",
       "      <td>2019</td>\n",
       "      <td>3-May</td>\n",
       "      <td>8:30 AM</td>\n",
       "      <td>EC</td>\n",
       "      <td>225</td>\n",
       "      <td>932</td>\n",
       "    </tr>\n",
       "    <tr>\n",
       "      <th>2</th>\n",
       "      <td>3</td>\n",
       "      <td>Fani</td>\n",
       "      <td>2019</td>\n",
       "      <td>3-May</td>\n",
       "      <td>5:30 AM</td>\n",
       "      <td>EC</td>\n",
       "      <td>235</td>\n",
       "      <td>923</td>\n",
       "    </tr>\n",
       "    <tr>\n",
       "      <th>3</th>\n",
       "      <td>4</td>\n",
       "      <td>Fani</td>\n",
       "      <td>2019</td>\n",
       "      <td>3-May</td>\n",
       "      <td>2:30 AM</td>\n",
       "      <td>SU</td>\n",
       "      <td>245</td>\n",
       "      <td>921</td>\n",
       "    </tr>\n",
       "    <tr>\n",
       "      <th>4</th>\n",
       "      <td>5</td>\n",
       "      <td>Fani</td>\n",
       "      <td>2019</td>\n",
       "      <td>2-May</td>\n",
       "      <td>11:30 PM</td>\n",
       "      <td>SU</td>\n",
       "      <td>250</td>\n",
       "      <td>920</td>\n",
       "    </tr>\n",
       "  </tbody>\n",
       "</table>\n",
       "</div>"
      ],
      "text/plain": [
       "   Sl No.  Name  Year   Date      Time Type  Wind Speed  Pressure\n",
       "0       1  Fani  2019  3-May  11:30 AM   EC         215       942\n",
       "1       2  Fani  2019  3-May   8:30 AM   EC         225       932\n",
       "2       3  Fani  2019  3-May   5:30 AM   EC         235       923\n",
       "3       4  Fani  2019  3-May   2:30 AM   SU         245       921\n",
       "4       5  Fani  2019  2-May  11:30 PM   SU         250       920"
      ]
     },
     "execution_count": 322,
     "metadata": {},
     "output_type": "execute_result"
    }
   ],
   "source": [
    "cyc_df1.head()"
   ]
  },
  {
   "cell_type": "code",
   "execution_count": 323,
   "id": "661bd4c2",
   "metadata": {},
   "outputs": [
    {
     "data": {
      "text/plain": [
       "Sl No.         int64\n",
       "Name          object\n",
       "Year           int64\n",
       "Date          object\n",
       "Time          object\n",
       "Type          object\n",
       "Wind Speed     int64\n",
       "Pressure       int64\n",
       "dtype: object"
      ]
     },
     "execution_count": 323,
     "metadata": {},
     "output_type": "execute_result"
    }
   ],
   "source": [
    "cyc_df1.dtypes"
   ]
  },
  {
   "cell_type": "code",
   "execution_count": 324,
   "id": "eddc7a8d",
   "metadata": {},
   "outputs": [
    {
     "data": {
      "text/plain": [
       "C     156\n",
       "D     114\n",
       "VC     95\n",
       "DD     81\n",
       "EC     73\n",
       "SC     73\n",
       "B      45\n",
       "SU     32\n",
       "M      30\n",
       "S       9\n",
       "Name: Type, dtype: int64"
      ]
     },
     "execution_count": 324,
     "metadata": {},
     "output_type": "execute_result"
    }
   ],
   "source": [
    "cyc_df1.Type.value_counts()"
   ]
  },
  {
   "cell_type": "code",
   "execution_count": 325,
   "id": "4195b1df",
   "metadata": {},
   "outputs": [
    {
     "data": {
      "text/html": [
       "<div>\n",
       "<style scoped>\n",
       "    .dataframe tbody tr th:only-of-type {\n",
       "        vertical-align: middle;\n",
       "    }\n",
       "\n",
       "    .dataframe tbody tr th {\n",
       "        vertical-align: top;\n",
       "    }\n",
       "\n",
       "    .dataframe thead th {\n",
       "        text-align: right;\n",
       "    }\n",
       "</style>\n",
       "<table border=\"1\" class=\"dataframe\">\n",
       "  <thead>\n",
       "    <tr style=\"text-align: right;\">\n",
       "      <th></th>\n",
       "      <th>Year</th>\n",
       "      <th>Type</th>\n",
       "      <th>Wind Speed</th>\n",
       "      <th>Pressure</th>\n",
       "    </tr>\n",
       "  </thead>\n",
       "  <tbody>\n",
       "    <tr>\n",
       "      <th>0</th>\n",
       "      <td>2019</td>\n",
       "      <td>EC</td>\n",
       "      <td>215</td>\n",
       "      <td>942</td>\n",
       "    </tr>\n",
       "    <tr>\n",
       "      <th>1</th>\n",
       "      <td>2019</td>\n",
       "      <td>EC</td>\n",
       "      <td>225</td>\n",
       "      <td>932</td>\n",
       "    </tr>\n",
       "    <tr>\n",
       "      <th>2</th>\n",
       "      <td>2019</td>\n",
       "      <td>EC</td>\n",
       "      <td>235</td>\n",
       "      <td>923</td>\n",
       "    </tr>\n",
       "    <tr>\n",
       "      <th>3</th>\n",
       "      <td>2019</td>\n",
       "      <td>SU</td>\n",
       "      <td>245</td>\n",
       "      <td>921</td>\n",
       "    </tr>\n",
       "    <tr>\n",
       "      <th>4</th>\n",
       "      <td>2019</td>\n",
       "      <td>SU</td>\n",
       "      <td>250</td>\n",
       "      <td>920</td>\n",
       "    </tr>\n",
       "  </tbody>\n",
       "</table>\n",
       "</div>"
      ],
      "text/plain": [
       "   Year Type  Wind Speed  Pressure\n",
       "0  2019   EC         215       942\n",
       "1  2019   EC         225       932\n",
       "2  2019   EC         235       923\n",
       "3  2019   SU         245       921\n",
       "4  2019   SU         250       920"
      ]
     },
     "execution_count": 325,
     "metadata": {},
     "output_type": "execute_result"
    }
   ],
   "source": [
    "# delete a column\n",
    "cyc_df1 = cyc_df1.drop(columns = ['Name','Date','Time','Sl No.'])\n",
    "cyc_df1.head()"
   ]
  },
  {
   "cell_type": "code",
   "execution_count": 326,
   "id": "746318b9",
   "metadata": {},
   "outputs": [
    {
     "data": {
      "text/plain": [
       "C     156\n",
       "D     114\n",
       "VC     95\n",
       "DD     81\n",
       "EC     73\n",
       "SC     73\n",
       "B      45\n",
       "SU     32\n",
       "M      30\n",
       "S       9\n",
       "Name: Type, dtype: int64"
      ]
     },
     "execution_count": 326,
     "metadata": {},
     "output_type": "execute_result"
    }
   ],
   "source": [
    "cyc_df1.Type.value_counts()"
   ]
  },
  {
   "cell_type": "code",
   "execution_count": 327,
   "id": "b996a6ba",
   "metadata": {},
   "outputs": [
    {
     "data": {
      "text/plain": [
       "10"
      ]
     },
     "execution_count": 327,
     "metadata": {},
     "output_type": "execute_result"
    }
   ],
   "source": [
    "len(Type)"
   ]
  },
  {
   "cell_type": "code",
   "execution_count": 328,
   "id": "38617639",
   "metadata": {},
   "outputs": [],
   "source": [
    "# scatterplot\n",
    "colors = ['red', 'orange', 'blue','green','pink','black','yellow','purple','gray','lime']\n",
    "Type = ['C','D','VC','DD','EC','SC','B','SU','M','S']\n",
    "#C=Cyclonic Storm"
   ]
  },
  {
   "cell_type": "code",
   "execution_count": 329,
   "id": "bbae2fb3",
   "metadata": {},
   "outputs": [
    {
     "data": {
      "text/plain": [
       "10"
      ]
     },
     "execution_count": 329,
     "metadata": {},
     "output_type": "execute_result"
    }
   ],
   "source": [
    "len(Type)"
   ]
  },
  {
   "cell_type": "code",
   "execution_count": 330,
   "id": "e46e42fe",
   "metadata": {},
   "outputs": [
    {
     "data": {
      "text/plain": [
       "<matplotlib.legend.Legend at 0x7fb6ecdd4640>"
      ]
     },
     "execution_count": 330,
     "metadata": {},
     "output_type": "execute_result"
    },
    {
     "data": {
      "image/png": "[encoded data removed]",
      "text/plain": [
       "<Figure size 432x288 with 1 Axes>"
      ]
     },
     "metadata": {
      "needs_background": "light"
     },
     "output_type": "display_data"
    }
   ],
   "source": [
    "for i in range(len(Type)):\n",
    "    x =cyc_df1[cyc_df1['Type'] == Type[i]]\n",
    "    plt.scatter(x['Wind Speed'], x['Pressure'], c = colors[i], label=Type[i])\n",
    "plt.xlabel(\"Wind(km/h)\")\n",
    "plt.ylabel(\"Pressure(mb)\")\n",
    "plt.legend()"
   ]
  },
  {
   "cell_type": "markdown",
   "id": "46622002",
   "metadata": {},
   "source": [
    "1.C=Cyclonic Storm\n",
    "2.D = Depression\n",
    "3.VC =Very Severe Cyclonic Storm\n",
    "4.DD = Deep Depression\n",
    "5.EC = Extremely severe"
   ]
  },
  {
   "cell_type": "code",
   "execution_count": 331,
   "id": "05fe0e01",
   "metadata": {},
   "outputs": [],
   "source": [
    "from sklearn.model_selection import train_test_split\n",
    "X = cyc_df1.drop(columns=['Type'])\n",
    "Y = cyc_df1['Type']\n",
    "x_train, x_test, y_train, y_test = train_test_split(X, Y, test_size=0.30) # train-70, test-30"
   ]
  },
  {
   "cell_type": "code",
   "execution_count": 332,
   "id": "d0c07675",
   "metadata": {},
   "outputs": [],
   "source": [
    "# decision tree\n",
    "from sklearn.tree import DecisionTreeClassifier\n",
    "model = DecisionTreeClassifier()"
   ]
  },
  {
   "cell_type": "code",
   "execution_count": 333,
   "id": "eb849c9c",
   "metadata": {},
   "outputs": [
    {
     "data": {
      "text/plain": [
       "DecisionTreeClassifier()"
      ]
     },
     "execution_count": 333,
     "metadata": {},
     "output_type": "execute_result"
    }
   ],
   "source": [
    "model.fit(x_train, y_train)"
   ]
  },
  {
   "cell_type": "code",
   "execution_count": 334,
   "id": "958c8041",
   "metadata": {},
   "outputs": [
    {
     "name": "stdout",
     "output_type": "stream",
     "text": [
      "Accuracy:  92.95774647887323\n"
     ]
    }
   ],
   "source": [
    "# print metric to get performance\n",
    "print(\"Accuracy: \",model.score(x_test, y_test) * 100)"
   ]
  },
  {
   "cell_type": "code",
   "execution_count": 335,
   "id": "ebc409ef",
   "metadata": {},
   "outputs": [],
   "source": [
    "#Accuracy:  92.01877934272301"
   ]
  },
  {
   "cell_type": "code",
   "execution_count": null,
   "id": "af960a32",
   "metadata": {},
   "outputs": [],
   "source": []
  }
 ],
 "metadata": {
  "kernelspec": {
   "display_name": "Python 3 (ipykernel)",
   "language": "python",
   "name": "python3"
  },
  "language_info": {
   "codemirror_mode": {
    "name": "ipython",
    "version": 3
   },
   "file_extension": ".py",
   "mimetype": "text/x-python",
   "name": "python",
   "nbconvert_exporter": "python",
   "pygments_lexer": "ipython3",
   "version": "3.9.7"
  }
 },
 "nbformat": 4,
 "nbformat_minor": 5
}

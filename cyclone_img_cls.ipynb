{
  "nbformat": 4,
  "nbformat_minor": 0,
  "metadata": {
    "colab": {
      "name": "cyclone_img_cls.ipynb",
      "provenance": [],
      "collapsed_sections": []
    },
    "kernelspec": {
      "name": "python3",
      "display_name": "Python 3"
    },
    "language_info": {
      "name": "python"
    }
  },
  "cells": [
    {
      "cell_type": "code",
      "execution_count": 1,
      "metadata": {
        "colab": {
          "base_uri": "https://localhost:8080/"
        },
        "id": "jI7gRqs6tvXV",
        "outputId": "868a5c9f-f710-4fdd-a24e-6f5edbe347d1"
      },
      "outputs": [
        {
          "output_type": "stream",
          "name": "stdout",
          "text": [
            "Mounted at /content/gdrive\n"
          ]
        }
      ],
      "source": [
        "from google.colab import drive\n",
        "drive.mount('/content/gdrive')"
      ]
    },
    {
      "cell_type": "code",
      "source": [
        "root_path='/content/gdrive/MyDrive/Sunik_sample_data/Cyclone_Images'"
      ],
      "metadata": {
        "id": "d9fU4TCfuvrT"
      },
      "execution_count": 36,
      "outputs": []
    },
    {
      "cell_type": "code",
      "source": [
        "from keras.models import Sequential\n",
        "from keras.layers import Conv2D,MaxPooling2D,Dense, Flatten"
      ],
      "metadata": {
        "id": "_8EzREzVuxhX"
      },
      "execution_count": 37,
      "outputs": []
    },
    {
      "cell_type": "code",
      "source": [
        "import os\n",
        "import pandas as pd\n",
        "import numpy as np\n",
        "import matplotlib.pyplot as plt\n",
        "import cv2\n",
        "import imageio\n",
        "import pathlib\n",
        "%matplotlib inline"
      ],
      "metadata": {
        "id": "5_rPGGFEuxjU"
      },
      "execution_count": 38,
      "outputs": []
    },
    {
      "cell_type": "code",
      "source": [
        "#import tensorflow as tf\n",
        "#tf.test.gpu_device_name()"
      ],
      "metadata": {
        "colab": {
          "base_uri": "https://localhost:8080/",
          "height": 37
        },
        "id": "0r2qWkhhuxlR",
        "outputId": "88ba881d-e54f-4d35-f3e7-97888b790e9a"
      },
      "execution_count": null,
      "outputs": [
        {
          "output_type": "execute_result",
          "data": {
            "application/vnd.google.colaboratory.intrinsic+json": {
              "type": "string"
            },
            "text/plain": [
              "''"
            ]
          },
          "metadata": {},
          "execution_count": 6
        }
      ]
    },
    {
      "cell_type": "code",
      "source": [
        "#Initialising the CNN\n",
        "classifier=Sequential()\n",
        "classifier.add(Conv2D(32,(3,3),input_shape=(64,64,3),activation='relu'))\n",
        "classifier.add(MaxPooling2D(pool_size= (2,2)))\n",
        "classifier.add(Conv2D(32,(3,3),activation='relu'))\n",
        "classifier.add(MaxPooling2D(pool_size= (2,2)))\n",
        "classifier.add(Flatten())\n",
        "classifier.add(Dense(units=128, activation='relu'))\n",
        "classifier.add(Dense(units=4, activation='sigmoid'))\n",
        "\n",
        "#classifier.compile(optimizer='adam',loss='categorical_crossentropy', metrics=['accuracy'])"
      ],
      "metadata": {
        "id": "jqqDjY-PxF3P"
      },
      "execution_count": 39,
      "outputs": []
    },
    {
      "cell_type": "code",
      "source": [
        "classifier.compile(optimizer='adam',loss='categorical_crossentropy', metrics=['accuracy'])"
      ],
      "metadata": {
        "id": "MT74sSeg7_hf"
      },
      "execution_count": 40,
      "outputs": []
    },
    {
      "cell_type": "code",
      "source": [
        "\n",
        "from keras.preprocessing.image import ImageDataGenerator\n",
        "train_datagen = ImageDataGenerator(rescale = 1./255,\n",
        "                                   shear_range=0.2,\n",
        "                                   zoom_range=0.2,\n",
        "                                   horizontal_flip= True)\n",
        "test_datagen=ImageDataGenerator(rescale = 1./255)"
      ],
      "metadata": {
        "id": "o_NTUy9byJxR"
      },
      "execution_count": 41,
      "outputs": []
    },
    {
      "cell_type": "code",
      "source": [
        "training_set=train_datagen.flow_from_directory('/content/gdrive/MyDrive/Sunik_sample_data/Cyclone_Images/Train',\n",
        "                                               target_size=(64,64),\n",
        "                                               batch_size=32,\n",
        "                                               class_mode='categorical')\n",
        "testing_set=test_datagen.flow_from_directory('/content/gdrive/MyDrive/Sunik_sample_data/Cyclone_Images/Test',\n",
        "                                               target_size=(64,64),\n",
        "                                               batch_size=32,\n",
        "                                               class_mode='categorical')"
      ],
      "metadata": {
        "colab": {
          "base_uri": "https://localhost:8080/"
        },
        "id": "X8S3SmiQyqXO",
        "outputId": "04309d34-ba7f-4a3e-a463-c454b30f9714"
      },
      "execution_count": 42,
      "outputs": [
        {
          "output_type": "stream",
          "name": "stdout",
          "text": [
            "Found 160 images belonging to 4 classes.\n",
            "Found 80 images belonging to 4 classes.\n"
          ]
        }
      ]
    },
    {
      "cell_type": "code",
      "source": [
        "classifier.summary()"
      ],
      "metadata": {
        "colab": {
          "base_uri": "https://localhost:8080/"
        },
        "id": "Xw2bCEzkyxoU",
        "outputId": "e376a371-0914-4741-8196-c76f3a9fc95d"
      },
      "execution_count": 43,
      "outputs": [
        {
          "output_type": "stream",
          "name": "stdout",
          "text": [
            "Model: \"sequential_3\"\n",
            "_________________________________________________________________\n",
            " Layer (type)                Output Shape              Param #   \n",
            "=================================================================\n",
            " conv2d_6 (Conv2D)           (None, 62, 62, 32)        896       \n",
            "                                                                 \n",
            " max_pooling2d_6 (MaxPooling  (None, 31, 31, 32)       0         \n",
            " 2D)                                                             \n",
            "                                                                 \n",
            " conv2d_7 (Conv2D)           (None, 29, 29, 32)        9248      \n",
            "                                                                 \n",
            " max_pooling2d_7 (MaxPooling  (None, 14, 14, 32)       0         \n",
            " 2D)                                                             \n",
            "                                                                 \n",
            " flatten_3 (Flatten)         (None, 6272)              0         \n",
            "                                                                 \n",
            " dense_6 (Dense)             (None, 128)               802944    \n",
            "                                                                 \n",
            " dense_7 (Dense)             (None, 4)                 516       \n",
            "                                                                 \n",
            "=================================================================\n",
            "Total params: 813,604\n",
            "Trainable params: 813,604\n",
            "Non-trainable params: 0\n",
            "_________________________________________________________________\n"
          ]
        }
      ]
    },
    {
      "cell_type": "code",
      "source": [
        "classifier.compile(optimizer='adam',loss='categorical_crossentropy', metrics=['accuracy'])"
      ],
      "metadata": {
        "id": "aWST_Fb7z1PE"
      },
      "execution_count": 44,
      "outputs": []
    },
    {
      "cell_type": "code",
      "source": [
        "#from keras.callbacks import EarlyStopping,ModelCheckpoint,ReduceLROnPlateau\n",
        "#import h5py"
      ],
      "metadata": {
        "id": "oJ2g9eak0BaU"
      },
      "execution_count": null,
      "outputs": []
    },
    {
      "cell_type": "code",
      "source": [
        "#after how meny ipocs our\n",
        "#erl_stop=EarlyStopping(monitor='val_loss',patience=6,restore_best_weights=True)\n",
        "#mod_chk=ModelCheckpoint(filepath=\"content/drive/MyDrive/achrive/my_model.hdf5\",monitor=\"val_loss\",save_best_only=True)\n",
        "#lr_rate=ReduceLROnPlateau(monitor='val_loss',patience=3,factor=0.1)\n"
      ],
      "metadata": {
        "id": "np27r93i1nLi"
      },
      "execution_count": null,
      "outputs": []
    },
    {
      "cell_type": "code",
      "source": [
        "hist=classifier.fit_generator(training_set,epochs=50,validation_data=training_set)\n",
        "                              #callbacks=[erl_stop,mod_chk,lr_rate],verbose=2)\n",
        "                              #shuffle=True\n"
      ],
      "metadata": {
        "colab": {
          "base_uri": "https://localhost:8080/"
        },
        "id": "37s17U8b1nTw",
        "outputId": "b251b7bb-2152-47ee-9fc8-ef5921a9a468"
      },
      "execution_count": 46,
      "outputs": [
        {
          "output_type": "stream",
          "name": "stderr",
          "text": [
            "/usr/local/lib/python3.7/dist-packages/ipykernel_launcher.py:1: UserWarning: `Model.fit_generator` is deprecated and will be removed in a future version. Please use `Model.fit`, which supports generators.\n",
            "  \"\"\"Entry point for launching an IPython kernel.\n"
          ]
        },
        {
          "output_type": "stream",
          "name": "stdout",
          "text": [
            "Epoch 1/50\n",
            "5/5 [==============================] - 10s 2s/step - loss: 0.2166 - accuracy: 0.9438 - val_loss: 0.2181 - val_accuracy: 0.9187\n",
            "Epoch 2/50\n",
            "5/5 [==============================] - 9s 2s/step - loss: 0.2606 - accuracy: 0.9000 - val_loss: 0.2468 - val_accuracy: 0.9125\n",
            "Epoch 3/50\n",
            "5/5 [==============================] - 9s 2s/step - loss: 0.2554 - accuracy: 0.9250 - val_loss: 0.2049 - val_accuracy: 0.9312\n",
            "Epoch 4/50\n",
            "5/5 [==============================] - 9s 2s/step - loss: 0.2501 - accuracy: 0.9000 - val_loss: 0.2105 - val_accuracy: 0.9375\n",
            "Epoch 5/50\n",
            "5/5 [==============================] - 9s 2s/step - loss: 0.2360 - accuracy: 0.9062 - val_loss: 0.2270 - val_accuracy: 0.9187\n",
            "Epoch 6/50\n",
            "5/5 [==============================] - 9s 2s/step - loss: 0.1868 - accuracy: 0.9438 - val_loss: 0.2082 - val_accuracy: 0.9312\n",
            "Epoch 7/50\n",
            "5/5 [==============================] - 9s 2s/step - loss: 0.2513 - accuracy: 0.9250 - val_loss: 0.1860 - val_accuracy: 0.9500\n",
            "Epoch 8/50\n",
            "5/5 [==============================] - 9s 2s/step - loss: 0.2408 - accuracy: 0.9187 - val_loss: 0.2288 - val_accuracy: 0.9125\n",
            "Epoch 9/50\n",
            "5/5 [==============================] - 9s 2s/step - loss: 0.2388 - accuracy: 0.9250 - val_loss: 0.2164 - val_accuracy: 0.9062\n",
            "Epoch 10/50\n",
            "5/5 [==============================] - 9s 2s/step - loss: 0.3518 - accuracy: 0.8562 - val_loss: 0.4133 - val_accuracy: 0.8125\n",
            "Epoch 11/50\n",
            "5/5 [==============================] - 10s 2s/step - loss: 0.3422 - accuracy: 0.8625 - val_loss: 0.2918 - val_accuracy: 0.8750\n",
            "Epoch 12/50\n",
            "5/5 [==============================] - 10s 2s/step - loss: 0.3090 - accuracy: 0.8875 - val_loss: 0.2537 - val_accuracy: 0.9062\n",
            "Epoch 13/50\n",
            "5/5 [==============================] - 9s 2s/step - loss: 0.2803 - accuracy: 0.8813 - val_loss: 0.1928 - val_accuracy: 0.9312\n",
            "Epoch 14/50\n",
            "5/5 [==============================] - 9s 2s/step - loss: 0.2071 - accuracy: 0.9312 - val_loss: 0.2428 - val_accuracy: 0.9062\n",
            "Epoch 15/50\n",
            "5/5 [==============================] - 10s 2s/step - loss: 0.2304 - accuracy: 0.9250 - val_loss: 0.1904 - val_accuracy: 0.9375\n",
            "Epoch 16/50\n",
            "5/5 [==============================] - 9s 2s/step - loss: 0.2420 - accuracy: 0.9250 - val_loss: 0.1778 - val_accuracy: 0.9500\n",
            "Epoch 17/50\n",
            "5/5 [==============================] - 9s 2s/step - loss: 0.2013 - accuracy: 0.9250 - val_loss: 0.1735 - val_accuracy: 0.9312\n",
            "Epoch 18/50\n",
            "5/5 [==============================] - 9s 2s/step - loss: 0.2226 - accuracy: 0.9250 - val_loss: 0.1276 - val_accuracy: 0.9500\n",
            "Epoch 19/50\n",
            "5/5 [==============================] - 9s 2s/step - loss: 0.1654 - accuracy: 0.9375 - val_loss: 0.2391 - val_accuracy: 0.9062\n",
            "Epoch 20/50\n",
            "5/5 [==============================] - 9s 2s/step - loss: 0.1593 - accuracy: 0.9438 - val_loss: 0.1629 - val_accuracy: 0.9750\n",
            "Epoch 21/50\n",
            "5/5 [==============================] - 9s 2s/step - loss: 0.1477 - accuracy: 0.9563 - val_loss: 0.1522 - val_accuracy: 0.9688\n",
            "Epoch 22/50\n",
            "5/5 [==============================] - 9s 2s/step - loss: 0.1697 - accuracy: 0.9438 - val_loss: 0.1591 - val_accuracy: 0.9500\n",
            "Epoch 23/50\n",
            "5/5 [==============================] - 9s 2s/step - loss: 0.1737 - accuracy: 0.9500 - val_loss: 0.0889 - val_accuracy: 0.9875\n",
            "Epoch 24/50\n",
            "5/5 [==============================] - 9s 2s/step - loss: 0.1231 - accuracy: 0.9688 - val_loss: 0.0970 - val_accuracy: 0.9625\n",
            "Epoch 25/50\n",
            "5/5 [==============================] - 9s 2s/step - loss: 0.1426 - accuracy: 0.9250 - val_loss: 0.1370 - val_accuracy: 0.9500\n",
            "Epoch 26/50\n",
            "5/5 [==============================] - 9s 2s/step - loss: 0.1133 - accuracy: 0.9625 - val_loss: 0.1108 - val_accuracy: 0.9625\n",
            "Epoch 27/50\n",
            "5/5 [==============================] - 9s 2s/step - loss: 0.1683 - accuracy: 0.9375 - val_loss: 0.0900 - val_accuracy: 0.9750\n",
            "Epoch 28/50\n",
            "5/5 [==============================] - 9s 2s/step - loss: 0.1245 - accuracy: 0.9688 - val_loss: 0.1015 - val_accuracy: 0.9625\n",
            "Epoch 29/50\n",
            "5/5 [==============================] - 9s 2s/step - loss: 0.0965 - accuracy: 0.9688 - val_loss: 0.0925 - val_accuracy: 0.9812\n",
            "Epoch 30/50\n",
            "5/5 [==============================] - 9s 2s/step - loss: 0.1411 - accuracy: 0.9500 - val_loss: 0.1520 - val_accuracy: 0.9438\n",
            "Epoch 31/50\n",
            "5/5 [==============================] - 9s 2s/step - loss: 0.1665 - accuracy: 0.9312 - val_loss: 0.0791 - val_accuracy: 0.9812\n",
            "Epoch 32/50\n",
            "5/5 [==============================] - 9s 2s/step - loss: 0.0809 - accuracy: 0.9812 - val_loss: 0.1572 - val_accuracy: 0.9375\n",
            "Epoch 33/50\n",
            "5/5 [==============================] - 9s 2s/step - loss: 0.1319 - accuracy: 0.9688 - val_loss: 0.0933 - val_accuracy: 0.9750\n",
            "Epoch 34/50\n",
            "5/5 [==============================] - 9s 2s/step - loss: 0.1028 - accuracy: 0.9625 - val_loss: 0.1083 - val_accuracy: 0.9688\n",
            "Epoch 35/50\n",
            "5/5 [==============================] - 9s 2s/step - loss: 0.1141 - accuracy: 0.9625 - val_loss: 0.0820 - val_accuracy: 0.9875\n",
            "Epoch 36/50\n",
            "5/5 [==============================] - 9s 2s/step - loss: 0.0817 - accuracy: 0.9688 - val_loss: 0.0740 - val_accuracy: 0.9812\n",
            "Epoch 37/50\n",
            "5/5 [==============================] - 9s 2s/step - loss: 0.0783 - accuracy: 0.9875 - val_loss: 0.1415 - val_accuracy: 0.9250\n",
            "Epoch 38/50\n",
            "5/5 [==============================] - 10s 2s/step - loss: 0.0803 - accuracy: 0.9937 - val_loss: 0.1150 - val_accuracy: 0.9625\n",
            "Epoch 39/50\n",
            "5/5 [==============================] - 9s 2s/step - loss: 0.1147 - accuracy: 0.9438 - val_loss: 0.1022 - val_accuracy: 0.9563\n",
            "Epoch 40/50\n",
            "5/5 [==============================] - 9s 2s/step - loss: 0.1042 - accuracy: 0.9438 - val_loss: 0.0885 - val_accuracy: 0.9688\n",
            "Epoch 41/50\n",
            "5/5 [==============================] - 9s 2s/step - loss: 0.0776 - accuracy: 0.9750 - val_loss: 0.0769 - val_accuracy: 0.9875\n",
            "Epoch 42/50\n",
            "5/5 [==============================] - 9s 2s/step - loss: 0.0914 - accuracy: 0.9688 - val_loss: 0.0808 - val_accuracy: 0.9812\n",
            "Epoch 43/50\n",
            "5/5 [==============================] - 9s 2s/step - loss: 0.0905 - accuracy: 0.9625 - val_loss: 0.0630 - val_accuracy: 0.9875\n",
            "Epoch 44/50\n",
            "5/5 [==============================] - 9s 2s/step - loss: 0.1679 - accuracy: 0.9250 - val_loss: 0.0803 - val_accuracy: 0.9812\n",
            "Epoch 45/50\n",
            "5/5 [==============================] - 9s 2s/step - loss: 0.1071 - accuracy: 0.9750 - val_loss: 0.0647 - val_accuracy: 0.9812\n",
            "Epoch 46/50\n",
            "5/5 [==============================] - 9s 2s/step - loss: 0.1102 - accuracy: 0.9688 - val_loss: 0.1120 - val_accuracy: 0.9500\n",
            "Epoch 47/50\n",
            "5/5 [==============================] - 9s 2s/step - loss: 0.1256 - accuracy: 0.9438 - val_loss: 0.1219 - val_accuracy: 0.9500\n",
            "Epoch 48/50\n",
            "5/5 [==============================] - 9s 2s/step - loss: 0.1241 - accuracy: 0.9625 - val_loss: 0.1037 - val_accuracy: 0.9625\n",
            "Epoch 49/50\n",
            "5/5 [==============================] - 9s 2s/step - loss: 0.0795 - accuracy: 0.9875 - val_loss: 0.0873 - val_accuracy: 0.9750\n",
            "Epoch 50/50\n",
            "5/5 [==============================] - 10s 2s/step - loss: 0.0711 - accuracy: 0.9812 - val_loss: 0.0954 - val_accuracy: 0.9750\n"
          ]
        }
      ]
    },
    {
      "cell_type": "code",
      "source": [
        "#20th jan\n",
        "#Epoch 10/10\n",
        "#5/5 [==============================] - 9s 2s/step - loss: 1.1107 - accuracy: 0.4500 - val_loss: 1.0767 - val_accuracy: 0.4812\n",
        "#Epoch 15/15\n",
        "#5/5 [==============================] - 9s 2s/step - loss: 0.6773 - accuracy: 0.7250 - val_loss: 0.7577 - val_accuracy: 0.6750\n",
        "#Epoch 20/20\n",
        "#5/5 [==============================] - 9s 2s/step - loss: 0.4416 - accuracy: 0.8313 - val_loss: 0.4524 - val_accuracy: 0.8375\n",
        "#Epoch 25/25\n",
        "#5/5 [==============================] - 9s 2s/step - loss: 0.2281 - accuracy: 0.9250 - val_loss: 0.1974 - val_accuracy: 0.9125\n",
        "#Epoch 30/30\n",
        "#5/5 [==============================] - 9s 2s/step - loss: 0.1027 - accuracy: 0.9688 - val_loss: 0.1250 - val_accuracy: 0.9688\n",
        "#Epoch 35/35\n",
        "#5/5 [==============================] - 9s 2s/step - loss: 0.0562 - accuracy: 0.9937 - val_loss: 0.0424 - val_accuracy: 0.9\n",
        "#Epoch 40/40\n",
        "#5/5 [==============================] - 9s 2s/step - loss: 0.0206 - accuracy: 1.0000 - val_loss: 0.0267 - val_accuracy: 0.9937\n",
        "#Epoch 35/35\n",
        "#5/5 [==============================] - 9s 2s/step - loss: 0.0758 - accuracy: 0.9688 - val_loss: 0.1011 - val_accuracy: 0.9750\n",
        "#Epoch 50/50\n",
        "#5/5 [==============================] - 10s 2s/step - loss: 0.0711 - accuracy: 0.9812 - val_loss: 0.0954 - val_accuracy: 0.9750\n"
      ],
      "metadata": {
        "id": "7vJZK2tZGPir"
      },
      "execution_count": null,
      "outputs": []
    },
    {
      "cell_type": "code",
      "source": [
        ""
      ],
      "metadata": {
        "id": "qkqsEbr2GPwp"
      },
      "execution_count": null,
      "outputs": []
    },
    {
      "cell_type": "code",
      "source": [
        "#ploting trsults with accuracy\n",
        "plt.plot(hist.history['loss'],color='blue',label='train')\n",
        "plt.plot(hist.history['val_loss'],color='orange',label='train')\n",
        "plt.grid(True)\n",
        "plt.title(\"Train and Test loss with epochs\", fontsize=16)\n",
        "plt.xlabel('Training epochs',fontsize=12)\n",
        "plt.ylabel('Train and test loss epochs',fontsize=12)\n"
      ],
      "metadata": {
        "colab": {
          "base_uri": "https://localhost:8080/",
          "height": 317
        },
        "id": "84cVcB-a-XVE",
        "outputId": "c5d51fef-7ed8-4ae4-9deb-8000ecf92520"
      },
      "execution_count": 47,
      "outputs": [
        {
          "output_type": "execute_result",
          "data": {
            "text/plain": [
              "Text(0, 0.5, 'Train and test loss epochs')"
            ]
          },
          "metadata": {},
          "execution_count": 47
        },
        {
          "output_type": "display_data",
          "data": {
            "image/png": "[encoded data removed]",
            "text/plain": [
              "<Figure size 432x288 with 1 Axes>"
            ]
          },
          "metadata": {
            "needs_background": "light"
          }
        }
      ]
    },
    {
      "cell_type": "code",
      "source": [
        "#ploting trsults with accuracy\n",
        "plt.plot(hist.history['accuracy'],color='blue',label='train')\n",
        "plt.plot(hist.history['val_accuracy'],color='orange',label='train')\n",
        "plt.grid(True)\n",
        "plt.title(\"Train and Test accuracy with epochs\", fontsize=16)\n",
        "plt.xlabel('Training epochs',fontsize=12)\n",
        "plt.ylabel('Train and test accuracy',fontsize=12)\n"
      ],
      "metadata": {
        "colab": {
          "base_uri": "https://localhost:8080/",
          "height": 317
        },
        "id": "_K7hvl-kBwDn",
        "outputId": "22db9982-8bcd-4dd4-fe62-945a5e69216b"
      },
      "execution_count": 48,
      "outputs": [
        {
          "output_type": "execute_result",
          "data": {
            "text/plain": [
              "Text(0, 0.5, 'Train and test accuracy')"
            ]
          },
          "metadata": {},
          "execution_count": 48
        },
        {
          "output_type": "display_data",
          "data": {
            "image/png": "[encoded data removed]",
            "text/plain": [
              "<Figure size 432x288 with 1 Axes>"
            ]
          },
          "metadata": {
            "needs_background": "light"
          }
        }
      ]
    },
    {
      "cell_type": "code",
      "source": [
        "#acc=classifier.evaluate(testing_set,steps=len(testing_set),verbose=2)\n",
        "#print('%.2f'%(acc[1]*100))"
      ],
      "metadata": {
        "colab": {
          "base_uri": "https://localhost:8080/"
        },
        "id": "44oKkCgrDZQN",
        "outputId": "57a393fd-5211-44f4-d01b-fa261a1f4ef6"
      },
      "execution_count": 19,
      "outputs": [
        {
          "output_type": "stream",
          "name": "stdout",
          "text": [
            "3/3 - 45s - loss: 3.9808 - accuracy: 0.4125 - 45s/epoch - 15s/step\n",
            "41.25\n"
          ]
        }
      ]
    }
  ]
}
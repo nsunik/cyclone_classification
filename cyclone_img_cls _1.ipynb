{
  "cells": [
    {
      "cell_type": "code",
      "execution_count": 1,
      "metadata": {
        "colab": {
          "base_uri": "https://localhost:8080/"
        },
        "id": "jI7gRqs6tvXV",
        "outputId": "4233ecb9-96c2-464c-9fcd-9b665524b1af"
      },
      "outputs": [
        {
          "output_type": "stream",
          "name": "stdout",
          "text": [
            "Mounted at /content/gdrive\n"
          ]
        }
      ],
      "source": [
        "from google.colab import drive\n",
        "drive.mount('/content/gdrive')"
      ]
    },
    {
      "cell_type": "code",
      "execution_count": 30,
      "metadata": {
        "id": "d9fU4TCfuvrT"
      },
      "outputs": [],
      "source": [
        "root_path='/content/gdrive/MyDrive/Sunik_sample_data/Cyclone_Images'"
      ]
    },
    {
      "cell_type": "code",
      "execution_count": 31,
      "metadata": {
        "id": "_8EzREzVuxhX"
      },
      "outputs": [],
      "source": [
        "from keras.models import Sequential\n",
        "from keras.layers import Conv2D,MaxPooling2D,Dense, Flatten,Dropout"
      ]
    },
    {
      "cell_type": "code",
      "execution_count": 32,
      "metadata": {
        "id": "5_rPGGFEuxjU"
      },
      "outputs": [],
      "source": [
        "import os\n",
        "import pandas as pd\n",
        "import numpy as np\n",
        "import matplotlib.pyplot as plt\n",
        "import cv2\n",
        "import imageio\n",
        "import pathlib\n",
        "%matplotlib inline"
      ]
    },
    {
      "cell_type": "code",
      "execution_count": null,
      "metadata": {
        "colab": {
          "base_uri": "https://localhost:8080/",
          "height": 37
        },
        "id": "0r2qWkhhuxlR",
        "outputId": "88ba881d-e54f-4d35-f3e7-97888b790e9a"
      },
      "outputs": [
        {
          "data": {
            "application/vnd.google.colaboratory.intrinsic+json": {
              "type": "string"
            },
            "text/plain": [
              "''"
            ]
          },
          "execution_count": 6,
          "metadata": {},
          "output_type": "execute_result"
        }
      ],
      "source": [
        "#import tensorflow as tf\n",
        "#tf.test.gpu_device_name()"
      ]
    },
    {
      "cell_type": "code",
      "execution_count": 33,
      "metadata": {
        "id": "jqqDjY-PxF3P"
      },
      "outputs": [],
      "source": [
        "#Initialising the CNN\n",
        "classifier=Sequential()\n",
        "classifier.add(Conv2D(32,(3,3),input_shape=(64,64,3),activation='relu'))\n",
        "classifier.add(MaxPooling2D(pool_size= (2,2)))\n",
        "classifier.add(Conv2D(32,(3,3),activation='relu'))\n",
        "classifier.add(MaxPooling2D(pool_size= (2,2)))\n",
        "classifier.add(Flatten())\n",
        "classifier.add(Dense(units=128, activation='relu'))\n",
        "classifier.add(Dense(units=4, activation='softmax'))\n",
        "\n",
        "classifier.compile(optimizer='adam',loss='categorical_crossentropy', metrics=['accuracy'])"
      ]
    },
    {
      "cell_type": "code",
      "execution_count": null,
      "metadata": {
        "id": "z2iYGyZp9yT7"
      },
      "outputs": [],
      "source": [
        "#classifier=Sequential()\n",
        "#classifier.add(Conv2D(16,(3,3),input_shape=(128,128,3),activation='relu'))\n",
        "#classifier.add(MaxPooling2D(pool_size= (2,2))) #1st layer\n",
        "\n",
        "#classifier.add(Conv2D(32,(3,3),activation='relu'))\n",
        "#classifier.add(MaxPooling2D(pool_size= (2,2)))#2nd layer"
      ]
    },
    {
      "cell_type": "code",
      "execution_count": null,
      "metadata": {
        "id": "uNNe_GBK-dkM"
      },
      "outputs": [],
      "source": [
        "#classifier.add(Conv2D(64,(3,3),activation='relu'))\n",
        "#classifier.add(MaxPooling2D(pool_size= (2,2))) #3nd layer"
      ]
    },
    {
      "cell_type": "code",
      "execution_count": null,
      "metadata": {
        "id": "tnhzf5_g-h47"
      },
      "outputs": [],
      "source": [
        "#classifier.add(Conv2D(128,(3,3),activation='relu'))\n",
        "#classifier.add(MaxPooling2D(pool_size= (2,2))) #4nd layer"
      ]
    },
    {
      "cell_type": "code",
      "execution_count": null,
      "metadata": {
        "id": "lWXE03ch-6Ka"
      },
      "outputs": [],
      "source": [
        "#classifier.add(Flatten()),\n",
        "\n",
        "#classifier.add(Dropout(0.5))\n",
        "#classifier.add(Dense(units=128, activation='relu'))\n",
        "#classifier.add(Dense(units=4, activation='softmax'))"
      ]
    },
    {
      "cell_type": "code",
      "execution_count": null,
      "metadata": {
        "id": "3ZH-fCFG9yjJ"
      },
      "outputs": [],
      "source": [
        ""
      ]
    },
    {
      "cell_type": "code",
      "execution_count": null,
      "metadata": {
        "id": "MT74sSeg7_hf"
      },
      "outputs": [],
      "source": [
        "#classifier.compile(optimizer='adam',loss='categorical_crossentropy', metrics=['accuracy'])"
      ]
    },
    {
      "cell_type": "code",
      "execution_count": 34,
      "metadata": {
        "id": "o_NTUy9byJxR"
      },
      "outputs": [],
      "source": [
        "\n",
        "from keras.preprocessing.image import ImageDataGenerator\n",
        "train_datagen = ImageDataGenerator(rescale = 1./255,\n",
        "                                   shear_range=0.2,\n",
        "                                   zoom_range=0.2,\n",
        "                                   horizontal_flip= True)\n",
        "test_datagen=ImageDataGenerator(rescale = 1./255)"
      ]
    },
    {
      "cell_type": "code",
      "execution_count": 35,
      "metadata": {
        "colab": {
          "base_uri": "https://localhost:8080/"
        },
        "id": "X8S3SmiQyqXO",
        "outputId": "eb0a0b04-3b7f-4716-9703-9ab728a35de6"
      },
      "outputs": [
        {
          "output_type": "stream",
          "name": "stdout",
          "text": [
            "Found 240 images belonging to 4 classes.\n",
            "Found 80 images belonging to 4 classes.\n"
          ]
        }
      ],
      "source": [
        "training_set=train_datagen.flow_from_directory('/content/gdrive/MyDrive/Sunik_sample_data/Cyclone_Images/Train_50',\n",
        "                                               target_size=(64,64),\n",
        "                                               batch_size=32,\n",
        "                                               class_mode='categorical')\n",
        "testing_set=test_datagen.flow_from_directory('/content/gdrive/MyDrive/Sunik_sample_data/Cyclone_Images/Test_50',\n",
        "                                               target_size=(64,64),\n",
        "                                               batch_size=32,\n",
        "                                               class_mode='categorical')"
      ]
    },
    {
      "cell_type": "code",
      "execution_count": 8,
      "metadata": {
        "colab": {
          "base_uri": "https://localhost:8080/"
        },
        "id": "Xw2bCEzkyxoU",
        "outputId": "e001c8b7-31da-4d1d-969f-44cd9f16515c"
      },
      "outputs": [
        {
          "output_type": "stream",
          "name": "stdout",
          "text": [
            "Model: \"sequential\"\n",
            "_________________________________________________________________\n",
            " Layer (type)                Output Shape              Param #   \n",
            "=================================================================\n",
            " conv2d (Conv2D)             (None, 62, 62, 32)        896       \n",
            "                                                                 \n",
            " max_pooling2d (MaxPooling2D  (None, 31, 31, 32)       0         \n",
            " )                                                               \n",
            "                                                                 \n",
            " conv2d_1 (Conv2D)           (None, 29, 29, 32)        9248      \n",
            "                                                                 \n",
            " max_pooling2d_1 (MaxPooling  (None, 14, 14, 32)       0         \n",
            " 2D)                                                             \n",
            "                                                                 \n",
            " flatten (Flatten)           (None, 6272)              0         \n",
            "                                                                 \n",
            " dense (Dense)               (None, 128)               802944    \n",
            "                                                                 \n",
            " dense_1 (Dense)             (None, 4)                 516       \n",
            "                                                                 \n",
            "=================================================================\n",
            "Total params: 813,604\n",
            "Trainable params: 813,604\n",
            "Non-trainable params: 0\n",
            "_________________________________________________________________\n"
          ]
        }
      ],
      "source": [
        "classifier.summary()"
      ]
    },
    {
      "cell_type": "code",
      "execution_count": 36,
      "metadata": {
        "id": "aWST_Fb7z1PE"
      },
      "outputs": [],
      "source": [
        "classifier.compile(optimizer='adam',loss='categorical_crossentropy', metrics=['accuracy'])"
      ]
    },
    {
      "cell_type": "code",
      "execution_count": null,
      "metadata": {
        "id": "oJ2g9eak0BaU"
      },
      "outputs": [],
      "source": [
        "#from keras.callbacks import EarlyStopping,ModelCheckpoint,ReduceLROnPlateau\n",
        "import h5py"
      ]
    },
    {
      "cell_type": "code",
      "execution_count": null,
      "metadata": {
        "id": "np27r93i1nLi"
      },
      "outputs": [],
      "source": [
        "#after how meny ipocs our\n",
        "#erl_stop=EarlyStopping(monitor='val_loss',patience=6,restore_best_weights=True)\n",
        "#mod_chk=ModelCheckpoint(filepath=\"content/drive/MyDrive/achrive/my_model.hdf5\",monitor=\"val_loss\",save_best_only=True)\n",
        "#lr_rate=ReduceLROnPlateau(monitor='val_loss',patience=3,factor=0.1)\n"
      ]
    },
    {
      "cell_type": "code",
      "execution_count": 37,
      "metadata": {
        "colab": {
          "base_uri": "https://localhost:8080/"
        },
        "id": "37s17U8b1nTw",
        "outputId": "b8b702b6-cf5d-4af8-8c23-c2d4136aa1f6"
      },
      "outputs": [
        {
          "output_type": "stream",
          "name": "stderr",
          "text": [
            "/usr/local/lib/python3.7/dist-packages/ipykernel_launcher.py:1: UserWarning: `Model.fit_generator` is deprecated and will be removed in a future version. Please use `Model.fit`, which supports generators.\n",
            "  \"\"\"Entry point for launching an IPython kernel.\n"
          ]
        },
        {
          "output_type": "stream",
          "name": "stdout",
          "text": [
            "Epoch 1/80\n",
            "8/8 - 17s - loss: 1.4955 - accuracy: 0.2208 - val_loss: 1.3821 - val_accuracy: 0.2750 - 17s/epoch - 2s/step\n",
            "Epoch 2/80\n",
            "8/8 - 15s - loss: 1.3835 - accuracy: 0.2625 - val_loss: 1.3757 - val_accuracy: 0.3167 - 15s/epoch - 2s/step\n",
            "Epoch 3/80\n",
            "8/8 - 15s - loss: 1.3685 - accuracy: 0.3250 - val_loss: 1.3467 - val_accuracy: 0.4458 - 15s/epoch - 2s/step\n",
            "Epoch 4/80\n",
            "8/8 - 16s - loss: 1.3371 - accuracy: 0.3583 - val_loss: 1.2910 - val_accuracy: 0.3750 - 16s/epoch - 2s/step\n",
            "Epoch 5/80\n",
            "8/8 - 15s - loss: 1.2659 - accuracy: 0.4250 - val_loss: 1.2230 - val_accuracy: 0.4792 - 15s/epoch - 2s/step\n",
            "Epoch 6/80\n",
            "8/8 - 16s - loss: 1.2223 - accuracy: 0.4333 - val_loss: 1.1698 - val_accuracy: 0.4750 - 16s/epoch - 2s/step\n",
            "Epoch 7/80\n",
            "8/8 - 16s - loss: 1.1941 - accuracy: 0.4708 - val_loss: 1.1306 - val_accuracy: 0.5083 - 16s/epoch - 2s/step\n",
            "Epoch 8/80\n",
            "8/8 - 16s - loss: 1.1328 - accuracy: 0.5208 - val_loss: 1.0837 - val_accuracy: 0.5042 - 16s/epoch - 2s/step\n",
            "Epoch 9/80\n",
            "8/8 - 16s - loss: 1.0627 - accuracy: 0.5583 - val_loss: 1.1106 - val_accuracy: 0.5333 - 16s/epoch - 2s/step\n",
            "Epoch 10/80\n",
            "8/8 - 16s - loss: 1.0632 - accuracy: 0.5542 - val_loss: 1.0836 - val_accuracy: 0.5708 - 16s/epoch - 2s/step\n",
            "Epoch 11/80\n",
            "8/8 - 16s - loss: 1.0256 - accuracy: 0.5667 - val_loss: 0.9870 - val_accuracy: 0.5833 - 16s/epoch - 2s/step\n",
            "Epoch 12/80\n",
            "8/8 - 16s - loss: 0.9699 - accuracy: 0.5833 - val_loss: 0.9159 - val_accuracy: 0.5958 - 16s/epoch - 2s/step\n",
            "Epoch 13/80\n",
            "8/8 - 16s - loss: 0.9186 - accuracy: 0.6333 - val_loss: 0.8634 - val_accuracy: 0.6292 - 16s/epoch - 2s/step\n",
            "Epoch 14/80\n",
            "8/8 - 16s - loss: 0.9450 - accuracy: 0.5542 - val_loss: 0.8479 - val_accuracy: 0.6708 - 16s/epoch - 2s/step\n",
            "Epoch 15/80\n",
            "8/8 - 15s - loss: 0.8399 - accuracy: 0.6500 - val_loss: 0.8156 - val_accuracy: 0.6500 - 15s/epoch - 2s/step\n",
            "Epoch 16/80\n",
            "8/8 - 15s - loss: 0.8211 - accuracy: 0.7000 - val_loss: 0.7525 - val_accuracy: 0.6792 - 15s/epoch - 2s/step\n",
            "Epoch 17/80\n",
            "8/8 - 16s - loss: 0.7548 - accuracy: 0.6708 - val_loss: 0.7392 - val_accuracy: 0.6958 - 16s/epoch - 2s/step\n",
            "Epoch 18/80\n",
            "8/8 - 16s - loss: 0.7023 - accuracy: 0.6833 - val_loss: 0.6824 - val_accuracy: 0.7083 - 16s/epoch - 2s/step\n",
            "Epoch 19/80\n",
            "8/8 - 16s - loss: 0.6845 - accuracy: 0.7458 - val_loss: 0.7429 - val_accuracy: 0.6833 - 16s/epoch - 2s/step\n",
            "Epoch 20/80\n",
            "8/8 - 15s - loss: 0.7609 - accuracy: 0.6917 - val_loss: 0.7653 - val_accuracy: 0.6792 - 15s/epoch - 2s/step\n",
            "Epoch 21/80\n",
            "8/8 - 16s - loss: 0.7250 - accuracy: 0.6542 - val_loss: 0.6451 - val_accuracy: 0.7375 - 16s/epoch - 2s/step\n",
            "Epoch 22/80\n",
            "8/8 - 16s - loss: 0.6559 - accuracy: 0.7417 - val_loss: 0.6244 - val_accuracy: 0.7500 - 16s/epoch - 2s/step\n",
            "Epoch 23/80\n",
            "8/8 - 16s - loss: 0.5885 - accuracy: 0.7500 - val_loss: 0.5565 - val_accuracy: 0.8083 - 16s/epoch - 2s/step\n",
            "Epoch 24/80\n",
            "8/8 - 16s - loss: 0.5744 - accuracy: 0.7917 - val_loss: 0.5950 - val_accuracy: 0.7917 - 16s/epoch - 2s/step\n",
            "Epoch 25/80\n",
            "8/8 - 15s - loss: 0.5427 - accuracy: 0.7875 - val_loss: 0.4948 - val_accuracy: 0.8083 - 15s/epoch - 2s/step\n",
            "Epoch 26/80\n",
            "8/8 - 16s - loss: 0.5381 - accuracy: 0.8000 - val_loss: 0.5091 - val_accuracy: 0.8292 - 16s/epoch - 2s/step\n",
            "Epoch 27/80\n",
            "8/8 - 16s - loss: 0.5006 - accuracy: 0.8333 - val_loss: 0.5621 - val_accuracy: 0.7708 - 16s/epoch - 2s/step\n",
            "Epoch 28/80\n",
            "8/8 - 16s - loss: 0.4826 - accuracy: 0.8000 - val_loss: 0.5459 - val_accuracy: 0.7708 - 16s/epoch - 2s/step\n",
            "Epoch 29/80\n",
            "8/8 - 16s - loss: 0.4446 - accuracy: 0.8542 - val_loss: 0.4456 - val_accuracy: 0.8125 - 16s/epoch - 2s/step\n",
            "Epoch 30/80\n",
            "8/8 - 16s - loss: 0.4912 - accuracy: 0.8042 - val_loss: 0.4107 - val_accuracy: 0.8583 - 16s/epoch - 2s/step\n",
            "Epoch 31/80\n",
            "8/8 - 16s - loss: 0.4316 - accuracy: 0.8292 - val_loss: 0.3515 - val_accuracy: 0.8792 - 16s/epoch - 2s/step\n",
            "Epoch 32/80\n",
            "8/8 - 16s - loss: 0.4190 - accuracy: 0.8375 - val_loss: 0.4052 - val_accuracy: 0.8375 - 16s/epoch - 2s/step\n",
            "Epoch 33/80\n",
            "8/8 - 16s - loss: 0.3708 - accuracy: 0.8750 - val_loss: 0.3142 - val_accuracy: 0.9125 - 16s/epoch - 2s/step\n",
            "Epoch 34/80\n",
            "8/8 - 16s - loss: 0.3499 - accuracy: 0.9000 - val_loss: 0.4364 - val_accuracy: 0.8208 - 16s/epoch - 2s/step\n",
            "Epoch 35/80\n",
            "8/8 - 16s - loss: 0.3627 - accuracy: 0.8542 - val_loss: 0.3488 - val_accuracy: 0.8917 - 16s/epoch - 2s/step\n",
            "Epoch 36/80\n",
            "8/8 - 16s - loss: 0.3528 - accuracy: 0.8667 - val_loss: 0.2811 - val_accuracy: 0.9167 - 16s/epoch - 2s/step\n",
            "Epoch 37/80\n",
            "8/8 - 16s - loss: 0.3432 - accuracy: 0.8875 - val_loss: 0.3184 - val_accuracy: 0.8750 - 16s/epoch - 2s/step\n",
            "Epoch 38/80\n",
            "8/8 - 16s - loss: 0.3829 - accuracy: 0.8458 - val_loss: 0.3609 - val_accuracy: 0.8583 - 16s/epoch - 2s/step\n",
            "Epoch 39/80\n",
            "8/8 - 16s - loss: 0.3973 - accuracy: 0.8667 - val_loss: 0.3715 - val_accuracy: 0.8542 - 16s/epoch - 2s/step\n",
            "Epoch 40/80\n",
            "8/8 - 15s - loss: 0.3618 - accuracy: 0.8625 - val_loss: 0.3069 - val_accuracy: 0.8750 - 15s/epoch - 2s/step\n",
            "Epoch 41/80\n",
            "8/8 - 15s - loss: 0.3043 - accuracy: 0.9000 - val_loss: 0.2789 - val_accuracy: 0.9125 - 15s/epoch - 2s/step\n",
            "Epoch 42/80\n",
            "8/8 - 16s - loss: 0.2565 - accuracy: 0.9250 - val_loss: 0.2282 - val_accuracy: 0.9417 - 16s/epoch - 2s/step\n",
            "Epoch 43/80\n",
            "8/8 - 16s - loss: 0.2704 - accuracy: 0.9000 - val_loss: 0.3206 - val_accuracy: 0.8792 - 16s/epoch - 2s/step\n",
            "Epoch 44/80\n",
            "8/8 - 16s - loss: 0.3134 - accuracy: 0.8833 - val_loss: 0.2705 - val_accuracy: 0.9125 - 16s/epoch - 2s/step\n",
            "Epoch 45/80\n",
            "8/8 - 16s - loss: 0.2688 - accuracy: 0.9000 - val_loss: 0.2513 - val_accuracy: 0.9208 - 16s/epoch - 2s/step\n",
            "Epoch 46/80\n",
            "8/8 - 16s - loss: 0.2487 - accuracy: 0.9125 - val_loss: 0.2343 - val_accuracy: 0.9167 - 16s/epoch - 2s/step\n",
            "Epoch 47/80\n",
            "8/8 - 16s - loss: 0.2108 - accuracy: 0.9333 - val_loss: 0.1992 - val_accuracy: 0.9417 - 16s/epoch - 2s/step\n",
            "Epoch 48/80\n",
            "8/8 - 16s - loss: 0.2143 - accuracy: 0.9333 - val_loss: 0.2320 - val_accuracy: 0.9125 - 16s/epoch - 2s/step\n",
            "Epoch 49/80\n",
            "8/8 - 16s - loss: 0.2658 - accuracy: 0.9042 - val_loss: 0.1572 - val_accuracy: 0.9708 - 16s/epoch - 2s/step\n",
            "Epoch 50/80\n",
            "8/8 - 16s - loss: 0.2174 - accuracy: 0.9042 - val_loss: 0.1734 - val_accuracy: 0.9458 - 16s/epoch - 2s/step\n",
            "Epoch 51/80\n",
            "8/8 - 16s - loss: 0.1851 - accuracy: 0.9375 - val_loss: 0.1752 - val_accuracy: 0.9458 - 16s/epoch - 2s/step\n",
            "Epoch 52/80\n",
            "8/8 - 16s - loss: 0.2139 - accuracy: 0.9333 - val_loss: 0.1945 - val_accuracy: 0.9208 - 16s/epoch - 2s/step\n",
            "Epoch 53/80\n",
            "8/8 - 16s - loss: 0.1970 - accuracy: 0.9208 - val_loss: 0.1960 - val_accuracy: 0.9292 - 16s/epoch - 2s/step\n",
            "Epoch 54/80\n",
            "8/8 - 16s - loss: 0.1983 - accuracy: 0.9167 - val_loss: 0.1676 - val_accuracy: 0.9458 - 16s/epoch - 2s/step\n",
            "Epoch 55/80\n",
            "8/8 - 16s - loss: 0.2174 - accuracy: 0.9250 - val_loss: 0.2475 - val_accuracy: 0.8958 - 16s/epoch - 2s/step\n",
            "Epoch 56/80\n",
            "8/8 - 16s - loss: 0.2441 - accuracy: 0.8958 - val_loss: 0.2019 - val_accuracy: 0.9417 - 16s/epoch - 2s/step\n",
            "Epoch 57/80\n",
            "8/8 - 16s - loss: 0.1817 - accuracy: 0.9375 - val_loss: 0.1408 - val_accuracy: 0.9625 - 16s/epoch - 2s/step\n",
            "Epoch 58/80\n",
            "8/8 - 16s - loss: 0.1882 - accuracy: 0.9375 - val_loss: 0.1444 - val_accuracy: 0.9500 - 16s/epoch - 2s/step\n",
            "Epoch 59/80\n",
            "8/8 - 16s - loss: 0.1405 - accuracy: 0.9625 - val_loss: 0.1679 - val_accuracy: 0.9458 - 16s/epoch - 2s/step\n",
            "Epoch 60/80\n",
            "8/8 - 16s - loss: 0.1552 - accuracy: 0.9583 - val_loss: 0.1200 - val_accuracy: 0.9667 - 16s/epoch - 2s/step\n",
            "Epoch 61/80\n",
            "8/8 - 15s - loss: 0.1374 - accuracy: 0.9417 - val_loss: 0.1486 - val_accuracy: 0.9542 - 15s/epoch - 2s/step\n",
            "Epoch 62/80\n",
            "8/8 - 16s - loss: 0.1594 - accuracy: 0.9500 - val_loss: 0.1576 - val_accuracy: 0.9417 - 16s/epoch - 2s/step\n",
            "Epoch 63/80\n",
            "8/8 - 16s - loss: 0.2296 - accuracy: 0.8917 - val_loss: 0.1746 - val_accuracy: 0.9458 - 16s/epoch - 2s/step\n",
            "Epoch 64/80\n",
            "8/8 - 16s - loss: 0.1738 - accuracy: 0.9333 - val_loss: 0.1649 - val_accuracy: 0.9417 - 16s/epoch - 2s/step\n",
            "Epoch 65/80\n",
            "8/8 - 16s - loss: 0.1190 - accuracy: 0.9500 - val_loss: 0.0816 - val_accuracy: 0.9833 - 16s/epoch - 2s/step\n",
            "Epoch 66/80\n",
            "8/8 - 16s - loss: 0.1394 - accuracy: 0.9417 - val_loss: 0.1657 - val_accuracy: 0.9458 - 16s/epoch - 2s/step\n",
            "Epoch 67/80\n",
            "8/8 - 16s - loss: 0.1267 - accuracy: 0.9583 - val_loss: 0.0888 - val_accuracy: 0.9667 - 16s/epoch - 2s/step\n",
            "Epoch 68/80\n",
            "8/8 - 16s - loss: 0.1520 - accuracy: 0.9250 - val_loss: 0.0863 - val_accuracy: 0.9750 - 16s/epoch - 2s/step\n",
            "Epoch 69/80\n",
            "8/8 - 16s - loss: 0.1259 - accuracy: 0.9583 - val_loss: 0.1135 - val_accuracy: 0.9667 - 16s/epoch - 2s/step\n",
            "Epoch 70/80\n",
            "8/8 - 16s - loss: 0.0858 - accuracy: 0.9792 - val_loss: 0.0853 - val_accuracy: 0.9708 - 16s/epoch - 2s/step\n",
            "Epoch 71/80\n",
            "8/8 - 16s - loss: 0.0933 - accuracy: 0.9792 - val_loss: 0.0836 - val_accuracy: 0.9750 - 16s/epoch - 2s/step\n",
            "Epoch 72/80\n",
            "8/8 - 16s - loss: 0.0926 - accuracy: 0.9750 - val_loss: 0.0657 - val_accuracy: 0.9917 - 16s/epoch - 2s/step\n",
            "Epoch 73/80\n",
            "8/8 - 16s - loss: 0.0835 - accuracy: 0.9583 - val_loss: 0.1255 - val_accuracy: 0.9500 - 16s/epoch - 2s/step\n",
            "Epoch 74/80\n",
            "8/8 - 16s - loss: 0.0956 - accuracy: 0.9625 - val_loss: 0.1260 - val_accuracy: 0.9583 - 16s/epoch - 2s/step\n",
            "Epoch 75/80\n",
            "8/8 - 15s - loss: 0.1102 - accuracy: 0.9708 - val_loss: 0.0733 - val_accuracy: 0.9750 - 15s/epoch - 2s/step\n",
            "Epoch 76/80\n",
            "8/8 - 16s - loss: 0.0689 - accuracy: 0.9750 - val_loss: 0.0706 - val_accuracy: 0.9833 - 16s/epoch - 2s/step\n",
            "Epoch 77/80\n",
            "8/8 - 16s - loss: 0.0971 - accuracy: 0.9708 - val_loss: 0.0732 - val_accuracy: 0.9833 - 16s/epoch - 2s/step\n",
            "Epoch 78/80\n",
            "8/8 - 16s - loss: 0.0579 - accuracy: 0.9875 - val_loss: 0.0484 - val_accuracy: 0.9833 - 16s/epoch - 2s/step\n",
            "Epoch 79/80\n",
            "8/8 - 16s - loss: 0.0768 - accuracy: 0.9708 - val_loss: 0.0800 - val_accuracy: 0.9833 - 16s/epoch - 2s/step\n",
            "Epoch 80/80\n",
            "8/8 - 16s - loss: 0.0502 - accuracy: 0.9833 - val_loss: 0.0566 - val_accuracy: 0.9792 - 16s/epoch - 2s/step\n"
          ]
        }
      ],
      "source": [
        "hist=classifier.fit_generator(training_set,shuffle=True,epochs=80,validation_data=training_set,verbose=2)\n",
        "                             #callbacks=[erl_stop,mod_chk,lr_rate],shuffle=True,verbose=2"
      ]
    },
    {
      "cell_type": "code",
      "execution_count": null,
      "metadata": {
        "id": "JvKuYDKx9IBX"
      },
      "outputs": [],
      "source": [
        "#Epoch 20/20\n",
        "#5/5 - 12s - loss: 1.0009 - accuracy: 0.5250 - val_loss: 0.9919 - val_accuracy: 0.5750 - lr: 0.0010 - 12s/epoch - 2s/step\n",
        "#Epoch 25/25\n",
        "#5/5 - 12s - loss: 0.4795 - accuracy: 0.8062 - val_loss: 0.4670 - val_accuracy: 0.8062 - lr: 1.0000e-04 - 12s/epoch - 2s/step"
      ]
    },
    {
      "cell_type": "code",
      "execution_count": null,
      "metadata": {
        "id": "7vJZK2tZGPir"
      },
      "outputs": [],
      "source": [
        "#20th jan\n",
        "#Epoch 10/10\n",
        "#5/5 [==============================] - 9s 2s/step - loss: 1.1107 - accuracy: 0.4500 - val_loss: 1.0767 - val_accuracy: 0.4812\n",
        "#Epoch 15/15\n",
        "#5/5 [==============================] - 9s 2s/step - loss: 0.6773 - accuracy: 0.7250 - val_loss: 0.7577 - val_accuracy: 0.6750\n",
        "#Epoch 20/20\n",
        "#5/5 [==============================] - 9s 2s/step - loss: 0.4416 - accuracy: 0.8313 - val_loss: 0.4524 - val_accuracy: 0.8375\n",
        "#Epoch 25/25\n",
        "#5/5 [==============================] - 9s 2s/step - loss: 0.2281 - accuracy: 0.9250 - val_loss: 0.1974 - val_accuracy: 0.9125\n",
        "#Epoch 30/30\n",
        "#5/5 [==============================] - 9s 2s/step - loss: 0.1027 - accuracy: 0.9688 - val_loss: 0.1250 - val_accuracy: 0.9688\n",
        "#Epoch 35/35\n",
        "#5/5 [==============================] - 9s 2s/step - loss: 0.0562 - accuracy: 0.9937 - val_loss: 0.0424 - val_accuracy: 0.9\n",
        "#Epoch 40/40\n",
        "#5/5 [==============================] - 9s 2s/step - loss: 0.0206 - accuracy: 1.0000 - val_loss: 0.0267 - val_accuracy: 0.9937\n",
        "#Epoch 35/35\n",
        "#5/5 [==============================] - 9s 2s/step - loss: 0.0758 - accuracy: 0.9688 - val_loss: 0.1011 - val_accuracy: 0.9750\n",
        "#Epoch 50/50\n",
        "#5/5 [==============================] - 10s 2s/step - loss: 0.0711 - accuracy: 0.9812 - val_loss: 0.0954 - val_accuracy: 0.9750\n"
      ]
    },
    {
      "cell_type": "code",
      "execution_count": null,
      "metadata": {
        "id": "evA6DtwzZBOT"
      },
      "outputs": [],
      "source": [
        ""
      ]
    },
    {
      "cell_type": "code",
      "execution_count": null,
      "metadata": {
        "id": "a3Kz5UhJVowD"
      },
      "outputs": [],
      "source": [
        ""
      ]
    },
    {
      "cell_type": "code",
      "execution_count": null,
      "metadata": {
        "id": "CoETTmrSWPOo"
      },
      "outputs": [],
      "source": [
        "   "
      ]
    },
    {
      "cell_type": "code",
      "execution_count": null,
      "metadata": {
        "id": "qkqsEbr2GPwp"
      },
      "outputs": [],
      "source": [
        "Epoch 23/35\n",
        "5/5 - 12s - loss: 0.2585 - accuracy: 0.8938 - val_loss: 0.2334 - val_accuracy: 0.9125 - lr: 1.0000e-05 - 12s/epoch - 2s/step"
      ]
    },
    {
      "cell_type": "code",
      "execution_count": 38,
      "metadata": {
        "colab": {
          "base_uri": "https://localhost:8080/",
          "height": 317
        },
        "id": "84cVcB-a-XVE",
        "outputId": "2c1c7928-8292-4593-a648-58fa2d87552f"
      },
      "outputs": [
        {
          "output_type": "execute_result",
          "data": {
            "text/plain": [
              "Text(0, 0.5, 'Train and test loss epochs')"
            ]
          },
          "metadata": {},
          "execution_count": 38
        },
        {
          "output_type": "display_data",
          "data": {
            "image/png": "[encoded data removed]",
            "text/plain": [
              "<Figure size 432x288 with 1 Axes>"
            ]
          },
          "metadata": {
            "needs_background": "light"
          }
        }
      ],
      "source": [
        "#ploting trsults with accuracy\n",
        "plt.plot(hist.history['loss'],color='blue',label='train')\n",
        "plt.plot(hist.history['val_loss'],color='orange',label='train')\n",
        "plt.grid(True)\n",
        "plt.title(\"Train and Test loss with epochs\", fontsize=16)\n",
        "plt.xlabel('Training epochs',fontsize=12)\n",
        "plt.ylabel('Train and test loss epochs',fontsize=12)\n"
      ]
    },
    {
      "cell_type": "code",
      "execution_count": 39,
      "metadata": {
        "colab": {
          "base_uri": "https://localhost:8080/",
          "height": 317
        },
        "id": "_K7hvl-kBwDn",
        "outputId": "af076ea1-cc74-443f-b200-e49c62584799"
      },
      "outputs": [
        {
          "output_type": "execute_result",
          "data": {
            "text/plain": [
              "Text(0, 0.5, 'Train and test accuracy')"
            ]
          },
          "metadata": {},
          "execution_count": 39
        },
        {
          "output_type": "display_data",
          "data": {
            "image/png": "[encoded data removed]",
            "text/plain": [
              "<Figure size 432x288 with 1 Axes>"
            ]
          },
          "metadata": {
            "needs_background": "light"
          }
        }
      ],
      "source": [
        "#ploting trsults with accuracy\n",
        "plt.plot(hist.history['accuracy'],color='blue',label='train')\n",
        "plt.plot(hist.history['val_accuracy'],color='orange',label='train')\n",
        "plt.grid(True)\n",
        "plt.title(\"Train and Test accuracy with epochs\", fontsize=16)\n",
        "plt.xlabel('Training epochs',fontsize=12)\n",
        "plt.ylabel('Train and test accuracy',fontsize=12)\n"
      ]
    },
    {
      "cell_type": "code",
      "execution_count": 40,
      "metadata": {
        "colab": {
          "base_uri": "https://localhost:8080/",
          "height": 281
        },
        "id": "3TWCCCBCkVmE",
        "outputId": "9585294e-0d42-41f6-9047-02878aef2127"
      },
      "outputs": [
        {
          "output_type": "display_data",
          "data": {
            "image/png": "[encoded data removed]",
            "text/plain": [
              "<Figure size 432x288 with 1 Axes>"
            ]
          },
          "metadata": {
            "needs_background": "light"
          }
        }
      ],
      "source": [
        "loss=hist.history['loss']\n",
        "val_loss=hist.history['val_loss']\n",
        "epochs=range(1,len(loss)+1)\n",
        "plt.plot(epochs,loss,'y',label='Training loss')\n",
        "#plt.plot(epochs,loss,'y',label='Training loss')\n",
        "plt.plot(epochs,val_loss,'r',label='validation loss')\n",
        "plt.title('Training and validation loss')\n",
        "plt.ylabel('Epochs')\n",
        "plt.legend()\n",
        "plt.show()\n",
        "\n",
        "\n"
      ]
    },
    {
      "cell_type": "code",
      "execution_count": 41,
      "metadata": {
        "colab": {
          "base_uri": "https://localhost:8080/"
        },
        "id": "yzzM16gMqV6p",
        "outputId": "70672b66-23c3-4e76-e440-8c9a78a6c193"
      },
      "outputs": [
        {
          "output_type": "stream",
          "name": "stdout",
          "text": [
            "3/3 - 3s - loss: 4.0242 - accuracy: 0.4500 - 3s/epoch - 925ms/step\n",
            "45.00\n"
          ]
        }
      ],
      "source": [
        "acc=classifier.evaluate(testing_set,steps=len(testing_set),verbose=2)\n",
        "print('%.2f'%(acc[1]*100))\n",
        "#3/3 - 3s - loss: 2.6183 - accuracy: 0.4375 - 3s/epoch - 908ms/step\n",
        "#43.75"
      ]
    },
    {
      "cell_type": "code",
      "execution_count": null,
      "metadata": {
        "id": "d-2leBfOMDYl"
      },
      "outputs": [],
      "source": [
        "#3/3 - 3s - loss: 2.0982 - accuracy: 0.4375 - 3s/epoch - 838ms/step\n",
        "43.75\n",
        "#3/3 - 2s - loss: 1.8084 - accuracy: 0.4250 - 2s/epoch - 831ms/step\n",
        "42.50=30 epochs\n",
        "#sir+ with shuffle,verbose=2,epoch=40,3/3 - 3s - loss: 2.1033 - accuracy: 0.5125 - 3s/epoch - 835ms/step\n",
        "#51.25pd.DataFrame(history.history).plot()\n",
        "#3/3 - 2s - loss: 3.0471 - accuracy: 0.4750 - 2s/epoch - 830ms/step\n",
        "#47.50,epoch=50\n",
        "#ep=60,3/3 - 3s - loss: 3.4732 - accuracy: 0.3375 - 3s/epoch - 836ms/step\n",
        "#33.75"
      ]
    },
    {
      "cell_type": "code",
      "execution_count": null,
      "metadata": {
        "colab": {
          "base_uri": "https://localhost:8080/",
          "height": 73,
          "resources": {
            "http://localhost:8080/nbextensions/google.colab/files.js": {
              "data": "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",
              "headers": [
                [
                  "content-type",
                  "application/javascript"
                ]
              ],
              "ok": true,
              "status": 200,
              "status_text": ""
            }
          }
        },
        "id": "44oKkCgrDZQN",
        "outputId": "0972b31c-fef0-4131-f0fe-eb57eb33b9ec"
      },
      "outputs": [
        {
          "data": {
            "text/html": [
              "\n",
              "     <input type=\"file\" id=\"files-be896448-34cb-4f7a-a7d2-357a739c9100\" name=\"files[]\" multiple disabled\n",
              "        style=\"border:none\" />\n",
              "     <output id=\"result-be896448-34cb-4f7a-a7d2-357a739c9100\">\n",
              "      Upload widget is only available when the cell has been executed in the\n",
              "      current browser session. Please rerun this cell to enable.\n",
              "      </output>\n",
              "      <script src=\"/nbextensions/google.colab/files.js\"></script> "
            ],
            "text/plain": [
              "<IPython.core.display.HTML object>"
            ]
          },
          "metadata": {},
          "output_type": "display_data"
        },
        {
          "name": "stdout",
          "output_type": "stream",
          "text": [
            "Saving t1.png to t1.png\n"
          ]
        }
      ],
      "source": [
        "from google.colab import files\n",
        "uploaded=files.upload()"
      ]
    },
    {
      "cell_type": "code",
      "execution_count": null,
      "metadata": {
        "id": "CCk1gpw49JLx"
      },
      "outputs": [],
      "source": [
        "#for epochs 60-loss: 3.9123 - accuracy: 0.4250\n",
        "#for 70 -loss-loss: 5.6648 - accuracy: 0.4250 - 3s/epoch - 895ms/step\n",
        "#3/3 - 3s - loss: 2.5188 - accuracy: 0.3375 - 3s/epoch - 901ms/step\n",
        "33.75\n",
        "# for=30,3/3 - 3s - loss: 1.7593 - accuracy: 0.4000 - 3s/epoch - 916ms/step\n",
        "40.00"
      ]
    }
  ],
  "metadata": {
    "colab": {
      "collapsed_sections": [],
      "name": "cyclone_img_cls.ipynb",
      "provenance": []
    },
    "kernelspec": {
      "display_name": "Python 3",
      "name": "python3"
    },
    "language_info": {
      "name": "python"
    }
  },
  "nbformat": 4,
  "nbformat_minor": 0
}
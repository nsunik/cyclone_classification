{
 "cells": [
  {
   "cell_type": "code",
   "execution_count": null,
   "metadata": {
    "colab": {
     "base_uri": "https://localhost:8080/"
    },
    "executionInfo": {
     "elapsed": 3646,
     "status": "ok",
     "timestamp": 1641474180518,
     "user": {
      "displayName": "Sunik Nayak",
      "photoUrl": "https://lh3.googleusercontent.com/a/default-user=s64",
      "userId": "12854392670606531600"
     },
     "user_tz": -330
    },
    "id": "6EnHtI1D9eCC",
    "outputId": "55be971c-6497-4792-907d-320ab45e6088"
   },
   "outputs": [
    {
     "name": "stdout",
     "output_type": "stream",
     "text": [
      "Drive already mounted at /content/gdrive; to attempt to forcibly remount, call drive.mount(\"/content/gdrive\", force_remount=True).\n"
     ]
    }
   ],
   "source": [
    "from google.colab import drive\n",
    "drive.mount('/content/gdrive')"
   ]
  },
  {
   "cell_type": "code",
   "execution_count": null,
   "metadata": {
    "id": "FiDuDqPUhJRp"
   },
   "outputs": [],
   "source": [
    "#Importing necessary libraries\n",
    "import numpy as np \n",
    "import pandas as pd \n",
    "import matplotlib.pyplot as plt\n",
    "import cv2\n",
    "import tensorflow as tf\n",
    "from PIL import Image\n",
    "import os\n",
    "from sklearn.model_selection import train_test_split\n",
    "#from keras.utils import to_categorical\n",
    "from tensorflow.keras.utils import to_categorical\n",
    "from keras.models import Sequential, load_model\n",
    "from keras.layers import Conv2D, MaxPool2D, Dense, Flatten, Dropout\n",
    "from keras.models import Sequential"
   ]
  },
  {
   "cell_type": "code",
   "execution_count": null,
   "metadata": {
    "id": "Ue4z63SWd11R"
   },
   "outputs": [],
   "source": [
    "data = []\n",
    "labels = []\n",
    "classes = 4\n",
    "cur_path = '/content/gdrive/MyDrive/Sunik_sample_data/data'"
   ]
  },
  {
   "cell_type": "code",
   "execution_count": null,
   "metadata": {
    "colab": {
     "base_uri": "https://localhost:8080/",
     "height": 37
    },
    "executionInfo": {
     "elapsed": 11,
     "status": "ok",
     "timestamp": 1641474191932,
     "user": {
      "displayName": "Sunik Nayak",
      "photoUrl": "https://lh3.googleusercontent.com/a/default-user=s64",
      "userId": "12854392670606531600"
     },
     "user_tz": -330
    },
    "id": "rM4zQ0TkfFBl",
    "outputId": "6d0065f7-a7a3-4796-f77a-e21596df573b"
   },
   "outputs": [
    {
     "data": {
      "application/vnd.google.colaboratory.intrinsic+json": {
       "type": "string"
      },
      "text/plain": [
       "'/content/gdrive/MyDrive/Sunik_sample_data/data'"
      ]
     },
     "execution_count": 216,
     "metadata": {},
     "output_type": "execute_result"
    }
   ],
   "source": [
    "cur_path"
   ]
  },
  {
   "cell_type": "code",
   "execution_count": null,
   "metadata": {
    "colab": {
     "base_uri": "https://localhost:8080/"
    },
    "executionInfo": {
     "elapsed": 423,
     "status": "ok",
     "timestamp": 1641474190559,
     "user": {
      "displayName": "Sunik Nayak",
      "photoUrl": "https://lh3.googleusercontent.com/a/default-user=s64",
      "userId": "12854392670606531600"
     },
     "user_tz": -330
    },
    "id": "lraVlM8ii7xN",
    "outputId": "eb79a0b0-0b7b-4b9d-f574-850b055ec5e0"
   },
   "outputs": [
    {
     "name": "stdout",
     "output_type": "stream",
     "text": [
      "/content/gdrive/MyDrive/Sunik_sample_data/data/train/0\n",
      "/content/gdrive/MyDrive/Sunik_sample_data/data/train/1\n",
      "/content/gdrive/MyDrive/Sunik_sample_data/data/train/2\n",
      "/content/gdrive/MyDrive/Sunik_sample_data/data/train/3\n"
     ]
    }
   ],
   "source": [
    "for i in range(classes):\n",
    "    path = os.path.join(cur_path,'train',str(i))\n",
    "    print(path)"
   ]
  },
  {
   "cell_type": "code",
   "execution_count": null,
   "metadata": {
    "colab": {
     "base_uri": "https://localhost:8080/"
    },
    "executionInfo": {
     "elapsed": 432,
     "status": "ok",
     "timestamp": 1641474206851,
     "user": {
      "displayName": "Sunik Nayak",
      "photoUrl": "https://lh3.googleusercontent.com/a/default-user=s64",
      "userId": "12854392670606531600"
     },
     "user_tz": -330
    },
    "id": "lS3aFGaTjaDN",
    "outputId": "7b345611-f714-4a3f-9ea8-c940627dc8d2"
   },
   "outputs": [
    {
     "name": "stdout",
     "output_type": "stream",
     "text": [
      "['typhoon.png', 'typhoon02.png', 'Screenshot 2021-12-22 at 6.22.04 PM.png', 'Screenshot 2021-12-22 at 6.22.14 PM.png', 'Screenshot 2021-12-22 at 6.22.41 PM.png', 'Screenshot 2021-12-22 at 6.23.08 PM.png', 'typhon03.png', 'Screenshot 2021-12-22 at 6.23.43 PM.png', 'Screenshot 2021-12-22 at 6.23.56 PM.png', 'Screenshot 2021-12-22 at 6.24.21 PM.png', 'Screenshot 2021-12-22 at 6.25.00 PM.png', 'Screenshot 2021-12-22 at 6.25.16 PM.png', 'Screenshot 2021-12-22 at 6.25.38 PM.png', 'Screenshot 2021-12-22 at 6.26.05 PM.png', 'Screenshot 2021-12-22 at 7.59.44 PM.png', 'Screenshot 2021-12-22 at 8.13.29 PM.png', 'Screenshot 2021-12-22 at 8.13.47 PM.png', 'Screenshot 2021-12-22 at 8.14.05 PM.png', 'Screenshot 2021-12-22 at 8.14.28 PM.png', 'Screenshot 2021-12-22 at 8.14.47 PM.png', 'Screenshot 2021-12-22 at 8.15.03 PM.png', 'Screenshot 2021-12-22 at 8.15.23 PM.png', 'Screenshot 2021-12-22 at 8.31.33 PM.png', 'Screenshot 2021-12-22 at 8.32.11 PM.png', 'Screenshot 2021-12-22 at 8.32.26 PM.png', 'Screenshot 2021-12-22 at 8.32.41 PM.png', 'Screenshot 2021-12-22 at 8.32.58 PM.png', 'Screenshot 2021-12-22 at 8.33.16 PM.png', 'Screenshot 2021-12-22 at 8.33.34 PM.png', 'Screenshot 2021-12-22 at 8.33.50 PM.png', 'Screenshot 2021-12-22 at 8.34.09 PM.png', 'Screenshot 2021-12-22 at 8.35.59 PM.png', 'Screenshot 2021-12-22 at 8.36.14 PM.png', 'Screenshot 2021-12-22 at 8.36.29 PM.png', 'Screenshot 2021-12-22 at 8.36.45 PM.png', 'Screenshot 2021-12-22 at 8.36.59 PM.png', 'Screenshot 2021-12-22 at 8.37.14 PM.png', 'Screenshot 2021-12-22 at 8.37.31 PM.png', 'Screenshot 2021-12-22 at 8.37.47 PM.png', 'Screenshot 2021-12-22 at 8.38.02 PM.png', 'Screenshot 2021-12-22 at 8.40.34 PM.png', 'Screenshot 2021-12-22 at 8.40.46 PM.png', 'Screenshot 2021-12-22 at 8.41.00 PM.png', 'Screenshot 2021-12-22 at 8.41.12 PM.png', 'Screenshot 2021-12-22 at 8.41.41 PM.png', 'Screenshot 2021-12-22 at 8.41.59 PM.png', 'Screenshot 2021-12-22 at 9.46.03 PM.png', 'Screenshot 2021-12-22 at 9.46.22 PM.png', 'Screenshot 2021-12-22 at 9.46.38 PM.png', 'Screenshot 2021-12-22 at 9.46.44 PM.png']\n",
      "['STS-Dec8-2009.png', 'STS-dec8-5.30-ss.png', 'STS-Dec7-ss-2012.png', 'STS-dec8-ss-2012.png', 'STS-Dec11-ss-2012.png', 'STS-Dec24-SS-2013.png', 'STS-Dec18-SS-2013.png', 'STS-Dec22-SS-2213.png', 'STS-Dec31-SS-2014.png', 'STS-Jan14-SS-2018.png', 'STS-Jan15-SS-2018.png', 'STS-Jan17-SS-2018.png', 'STS-Jan18-SS-2018.png', 'STS-Jan19-SS-2018.png', 'STS-Jan20-SS-2018.png', 'STS-Jan22-SS-2021.png', 'STS-Jan30-SS-2007.png', 'STS-Feb5-SS-2007.png', 'STS-Feb6-SS-2007.png', 'STS-Feb5-SS-2006.png', 'sts-fEB2-ss-2006.png', 'STS-Feb6-SS-2006.png', 'STS-Feb5-SS-2005.png', 'STS-Feb4-SS-2005.png', 'STS-Feb6-SS-2004.png', 'STS-Jan29-SS-2004.png', 'STS-Feb14-SS-2003.png', 'STS-Feb14-2003.png', 'STS-Feb10-SS-2003.png', 'STS-Feb11-SS-2003.png', 'STS-Feb12-SS-2003.png', 'Screenshot 2021-12-21 at 12.31.47 AM.png', 'Screenshot 2021-12-21 at 12.29.20 AM.png', 'Screenshot 2021-12-21 at 12.29.00 AM.png', 'Screenshot 2021-12-20 at 8.36.12 PM.png', 'Screenshot 2021-12-20 at 8.34.15 PM.png', 'Screenshot 2021-12-18 at 8.47.31 PM.png', 'STS-Dec23-2.30-SS-2009.png', 'STS-Jan2-11.30-SS-2013.png', 'STS-Jan2-2.30-SS-2013.png', 'STS-Jan3-2.30-SS-2013.png', 'STS-Jan2-23.30-SS-2013.png', 'STS-Jan3-8.30-SS-2013.png', 'STS-Jan3-23.30-SS-2013.png', 'STS-Jan4-11.30-SS-2013.png', 'STS-Jan5-2.30-SS-2013.png', 'STS-Dec30-8.30-SS-2013.png', 'STS-Dec30-2.30-SS-2013.png', 'STS-Jan3-5.30-SS-2014.png', 'STS-Dec31-2.30-SS-2014.png']\n",
      "['2-TD-14dec.png', 'TD-11dec-d.png', 'TD-Dec12-D2010.png', 'TD-Dec25-D-2013.png', 'TD-Dec14-D-2013.png', 'TD-Dec15-D-2013.png', 'TD-Dec16-D-2013.png', 'TD-Dec23-S-2013.png', 'TD-Jan1-D-2015.png', 'TD-Jan2-D-2015.png', 'TD-Dec31-D-2015.png', 'TD-Dec29-D-2015.png', 'TD-Jan12-D-2016.png', 'TD-Jan13-D-2016.png', 'TD-Jan8-D-2017.png', 'TD-Jan9-D-2017.png', 'TD-Jan13-D-2017.png', 'TD-Jan14-D-2017.png', 'TD-Jan11-D-2018.png', 'TD-Jan12-D-2018.png', 'TD-Jan22-D-2019.png', 'TD-Jan23-S-2020.png', 'TD-Jan16-D-2021.png', 'Td-Jan17-D-2021.png', 'TD-Feb2-D-2021.png', 'TD-Jan30-D-2021.png', 'TD-Jan29-D-2021.png', 'TD-Dec14-5.30-2009.png', 'TD-Dec14-2.30-d-2009.png', 'TD-Dec13-2.30-D-2003.png', 'TD-Dec14-2.30-2009.png', 'TD-Dec13-5.30-D-2009.png', 'TD-Dec14-17.30-D-2009.png', 'TD-Dec15-11.30-D-2009.png', 'TD-Dec18-5.30-D-2010.png', 'TD-Dec18-2.30-D-2010.png', 'TD-Dec12-23.30-D-2011.png', 'TD-Dec13-5.30-D-2011.png', 'TD-Dec14-23.30-D-2011.png', 'TD-Dec19-8.30-D-2011.png', 'TD-Dec11-5.30-D-2012.png', 'TD-Dec11-8.30-D-2012.png', 'TD-Dec11-2.30-D-2012.png', 'TD-Dec13-8.30-D-2012.png', 'TD-Dec13-2.30-D-2012.png', 'TD-Dec6-5.30-D-2012.png', 'TD-Dec12-11.30-D-2013.png', 'TD-Dec12-5.30-D-2011.png', 'TD-Dec12-2.30-D-2011.png', 'TD-Dec11-23.30-D-2013.png']\n",
      "['TS-Dec7-s-2009.png', 'TS-Dec11-s-2009.png', 'TS-Dec24-S-2013.png', 'TS-Dec16-S-2013.png', 'TS-Dec17-S-2013.png', 'TS-Dec23-S-2013.png', 'TS-Dec31-S-2014.png', 'TS-Jan1-S-2015.png', 'TS-Dec31-S-2015.png', 'TS-Jan12-S-2018.png', 'TS-Jan13-S-2018.png', 'TS_Jan14-S-2018.png', 'TS-Jan14-S-2018.png', 'TS-Jan18-S-2018.png', 'TS-Jan19-S-2018.png', 'TS-Jan20-S-2019.png', 'TS-Jan21-S-2019.png', 'TS-Jan22-S-2020.png', 'TS-Jan23-S-2020.png', 'TS-Jan17-S-2021.png', 'TS-Jan18-S-2021.png', 'TS-Jan19-S-2021.png', 'TS-Jan20-S-2018.png', 'TS-Jan20-S-2021.png', 'TS-Jan21-S-2021.png', 'TS-Dec15-8.30-S-2011.png', 'TS-Dec15-23.30-S-2011.png', 'TS-Dec16-8.30-S-2011.png', 'TS-DEc16-5.30-S-2011.png', 'TS-Dec16-23.30-S-2011.png', 'TS-Dec17-11.30-S-2011.png', 'TS-Dec18-8.30-S-2011.png', 'TS-Dec18-20.30-S-2011.png', 'TS-Dec18-5.30-S-2011.png', 'TS-Dec18-5.35-S-2011.png', 'TS-Dec18-23.30-S-2011.png', 'TS-Dec17-8.30-S-2021.png', 'TS-Dec24-17.30-D-2012.png', 'TS-Dec-23-11.30-2013.png', 'Ts-Dec17-5.30-S-2013.png', 'TS-Dec17-23.30-2013.png', 'TS-Dec31-23.30-S-2015.png', 'TS-dec28-23.30-S-2014.png', 'TS-Dec29-11.30-S-2014.png', 'TS_Dec31-23.30-2014.png', 'TS-Dec31-20.10-S-2014.png', 'TS-Jan3-5.30-S-2018.png', 'TS-Jan2-23.30-2018.png', 'TS-Jan3-11.30-S-2018.png', 'TS-Jan3-.30-S-2018.png']\n"
     ]
    }
   ],
   "source": [
    "#Retrieving the images and their labels \n",
    "for i in range(classes):\n",
    "    path = os.path.join(cur_path,'train',str(i))\n",
    "    images = os.listdir(path)\n",
    "    print(images)\n",
    "    "
   ]
  },
  {
   "cell_type": "code",
   "execution_count": null,
   "metadata": {
    "id": "6nMqzc8V-sjL"
   },
   "outputs": [],
   "source": [
    "for a in images:\n",
    "        try:\n",
    "           image = Image.open(path +'//'+ a)\n",
    "#print(image)\n",
    "           image = image.resize((100,100))\n",
    "#print(image)            \n",
    "           image = np.array(image)\n",
    "#print(image)           \n",
    "           #sim = Image.fromarray(image)\n",
    "           data.append(image)\n",
    "#print(image)            \n",
    "           labels.append(i)\n",
    "#print(image)           \n",
    "        except:\n",
    "            print(\"Error loading image\")\n"
   ]
  },
  {
   "cell_type": "code",
   "execution_count": null,
   "metadata": {
    "id": "6Ac1ho--QsAd"
   },
   "outputs": [],
   "source": [
    "data = np.array(data)\n",
    "labels = np.array(labels)"
   ]
  },
  {
   "cell_type": "code",
   "execution_count": null,
   "metadata": {
    "colab": {
     "base_uri": "https://localhost:8080/"
    },
    "executionInfo": {
     "elapsed": 455,
     "status": "ok",
     "timestamp": 1641474219057,
     "user": {
      "displayName": "Sunik Nayak",
      "photoUrl": "https://lh3.googleusercontent.com/a/default-user=s64",
      "userId": "12854392670606531600"
     },
     "user_tz": -330
    },
    "id": "uEZOWUBoRbDC",
    "outputId": "d064a6b5-1106-45ce-9842-909b09857346"
   },
   "outputs": [
    {
     "name": "stdout",
     "output_type": "stream",
     "text": [
      "[[[[ 53  59  75 255]\n",
      "   [ 29  35  51 255]\n",
      "   [ 17  23  39 255]\n",
      "   ...\n",
      "   [ 70  75  83 255]\n",
      "   [ 74  79  84 255]\n",
      "   [ 79  84  88 255]]\n",
      "\n",
      "  [[ 47  53  69 255]\n",
      "   [ 48  54  70 255]\n",
      "   [ 26  32  48 255]\n",
      "   ...\n",
      "   [ 71  75  83 255]\n",
      "   [ 67  72  78 255]\n",
      "   [107 112 116 255]]\n",
      "\n",
      "  [[ 35  41  57 255]\n",
      "   [ 54  60  77 255]\n",
      "   [ 33  39  55 255]\n",
      "   ...\n",
      "   [ 50  55  63 255]\n",
      "   [ 83  88  94 255]\n",
      "   [139 144 148 255]]\n",
      "\n",
      "  ...\n",
      "\n",
      "  [[  3   5  21 255]\n",
      "   [  3   5  20 255]\n",
      "   [  3   5  20 255]\n",
      "   ...\n",
      "   [ 92  97 112 255]\n",
      "   [141 144 153 255]\n",
      "   [180 184 185 255]]\n",
      "\n",
      "  [[  3   5  20 255]\n",
      "   [  3   5  20 255]\n",
      "   [  3   5  20 255]\n",
      "   ...\n",
      "   [ 64  69  86 255]\n",
      "   [136 141 147 255]\n",
      "   [174 179 175 255]]\n",
      "\n",
      "  [[  3   5  20 255]\n",
      "   [  3   5  20 255]\n",
      "   [  3   5  20 255]\n",
      "   ...\n",
      "   [ 72  77  96 255]\n",
      "   [124 127 137 255]\n",
      "   [187 191 189 255]]]\n",
      "\n",
      "\n",
      " [[[  3   5  19 255]\n",
      "   [  5   8  25 255]\n",
      "   [ 12  23  39 255]\n",
      "   ...\n",
      "   [ 84  88  97 255]\n",
      "   [151 153 160 255]\n",
      "   [ 17  19  33 255]]\n",
      "\n",
      "  [[  3   5  20 255]\n",
      "   [  7  10  28 255]\n",
      "   [ 13  23  40 255]\n",
      "   ...\n",
      "   [126 130 135 255]\n",
      "   [151 152 159 255]\n",
      "   [  8  10  24 255]]\n",
      "\n",
      "  [[  3   5  22 255]\n",
      "   [  9  12  31 255]\n",
      "   [ 13  24  41 255]\n",
      "   ...\n",
      "   [217 221 223 255]\n",
      "   [125 127 134 255]\n",
      "   [  0   0  14 255]]\n",
      "\n",
      "  ...\n",
      "\n",
      "  [[ 12  17  39 255]\n",
      "   [ 21  26  48 255]\n",
      "   [ 16  21  42 255]\n",
      "   ...\n",
      "   [165 165 168 255]\n",
      "   [ 87  90 110 255]\n",
      "   [ 29  38  67 255]]\n",
      "\n",
      "  [[ 14  19  41 255]\n",
      "   [ 20  25  47 255]\n",
      "   [ 15  20  40 255]\n",
      "   ...\n",
      "   [ 95  98 115 255]\n",
      "   [ 39  44  72 255]\n",
      "   [ 29  36  66 255]]\n",
      "\n",
      "  [[ 15  20  42 255]\n",
      "   [ 20  25  46 255]\n",
      "   [ 14  19  39 255]\n",
      "   ...\n",
      "   [ 63  71  98 255]\n",
      "   [ 27  34  66 255]\n",
      "   [ 29  35  68 255]]]\n",
      "\n",
      "\n",
      " [[[239 239 237 255]\n",
      "   [240 240 238 255]\n",
      "   [240 240 238 255]\n",
      "   ...\n",
      "   [120 119 124 255]\n",
      "   [126 125 130 255]\n",
      "   [128 127 130 255]]\n",
      "\n",
      "  [[237 237 236 255]\n",
      "   [238 238 236 255]\n",
      "   [241 241 239 255]\n",
      "   ...\n",
      "   [116 116 121 255]\n",
      "   [123 123 128 255]\n",
      "   [131 131 135 255]]\n",
      "\n",
      "  [[235 235 235 255]\n",
      "   [234 234 232 255]\n",
      "   [236 236 234 255]\n",
      "   ...\n",
      "   [113 114 119 255]\n",
      "   [122 123 128 255]\n",
      "   [134 133 139 255]]\n",
      "\n",
      "  ...\n",
      "\n",
      "  [[ 45  54  71 255]\n",
      "   [113 118 130 255]\n",
      "   [126 129 138 255]\n",
      "   ...\n",
      "   [156 158 162 255]\n",
      "   [158 160 165 255]\n",
      "   [169 171 177 255]]\n",
      "\n",
      "  [[ 56  64  79 255]\n",
      "   [113 118 128 255]\n",
      "   [122 125 134 255]\n",
      "   ...\n",
      "   [200 200 204 255]\n",
      "   [174 175 178 255]\n",
      "   [174 177 182 255]]\n",
      "\n",
      "  [[ 93  97 110 255]\n",
      "   [151 155 166 255]\n",
      "   [ 78  82  93 255]\n",
      "   ...\n",
      "   [182 182 184 255]\n",
      "   [160 160 162 255]\n",
      "   [167 167 173 255]]]\n",
      "\n",
      "\n",
      " ...\n",
      "\n",
      "\n",
      " [[[218 216 210 255]\n",
      "   [147 149 134 255]\n",
      "   [ 87  99  81 255]\n",
      "   ...\n",
      "   [ 90 105 115 255]\n",
      "   [ 50  67  77 255]\n",
      "   [ 47  63  77 255]]\n",
      "\n",
      "  [[163 162 150 255]\n",
      "   [104 108  87 255]\n",
      "   [ 61  72  64 255]\n",
      "   ...\n",
      "   [101 115 125 255]\n",
      "   [ 84  98 106 255]\n",
      "   [ 68  82  95 255]]\n",
      "\n",
      "  [[128 137 120 255]\n",
      "   [ 64  76  61 255]\n",
      "   [ 39  49  58 255]\n",
      "   ...\n",
      "   [ 80  94 103 255]\n",
      "   [ 99 112 118 255]\n",
      "   [ 92 104 115 255]]\n",
      "\n",
      "  ...\n",
      "\n",
      "  [[ 69  73  87 255]\n",
      "   [ 45  49  62 255]\n",
      "   [ 60  63  77 255]\n",
      "   ...\n",
      "   [138 142 150 255]\n",
      "   [104 107 118 255]\n",
      "   [126 133 141 255]]\n",
      "\n",
      "  [[ 92  96 106 255]\n",
      "   [ 70  74  85 255]\n",
      "   [ 96  98 110 255]\n",
      "   ...\n",
      "   [161 164 167 255]\n",
      "   [128 132 140 255]\n",
      "   [ 63  70  88 255]]\n",
      "\n",
      "  [[ 65  68  84 255]\n",
      "   [ 72  75  91 255]\n",
      "   [ 77  80  93 255]\n",
      "   ...\n",
      "   [208 211 210 255]\n",
      "   [166 171 171 255]\n",
      "   [109 116 127 255]]]\n",
      "\n",
      "\n",
      " [[[133 138 141 255]\n",
      "   [188 189 194 255]\n",
      "   [220 220 221 255]\n",
      "   ...\n",
      "   [ 46  53  63 255]\n",
      "   [ 58  65  75 255]\n",
      "   [ 40  47  57 255]]\n",
      "\n",
      "  [[161 166 169 255]\n",
      "   [149 153 158 255]\n",
      "   [170 173 180 255]\n",
      "   ...\n",
      "   [ 30  37  47 255]\n",
      "   [ 40  47  57 255]\n",
      "   [ 50  57  67 255]]\n",
      "\n",
      "  [[152 159 163 255]\n",
      "   [ 85  94 102 255]\n",
      "   [ 93 101 115 255]\n",
      "   ...\n",
      "   [ 39  46  56 255]\n",
      "   [ 37  44  54 255]\n",
      "   [ 53  60  70 255]]\n",
      "\n",
      "  ...\n",
      "\n",
      "  [[180 182 184 255]\n",
      "   [179 182 185 255]\n",
      "   [161 165 172 255]\n",
      "   ...\n",
      "   [239 239 246 255]\n",
      "   [232 232 236 255]\n",
      "   [ 73  75  83 255]]\n",
      "\n",
      "  [[178 180 183 255]\n",
      "   [182 187 188 255]\n",
      "   [173 177 180 255]\n",
      "   ...\n",
      "   [244 243 248 255]\n",
      "   [234 234 237 255]\n",
      "   [ 57  58  68 255]]\n",
      "\n",
      "  [[168 173 174 255]\n",
      "   [158 166 168 255]\n",
      "   [198 199 198 255]\n",
      "   ...\n",
      "   [246 246 246 255]\n",
      "   [230 231 232 255]\n",
      "   [ 41  43  55 255]]]\n",
      "\n",
      "\n",
      " [[[148 150 139 255]\n",
      "   [203 200 195 255]\n",
      "   [181 182 176 255]\n",
      "   ...\n",
      "   [ 29  32  54 255]\n",
      "   [ 26  29  51 255]\n",
      "   [ 37  42  64 255]]\n",
      "\n",
      "  [[145 147 137 255]\n",
      "   [195 194 188 255]\n",
      "   [186 188 181 255]\n",
      "   ...\n",
      "   [ 13  19  38 255]\n",
      "   [ 16  23  40 255]\n",
      "   [ 16  23  41 255]]\n",
      "\n",
      "  [[162 164 153 255]\n",
      "   [188 192 183 255]\n",
      "   [186 190 181 255]\n",
      "   ...\n",
      "   [ 17  24  44 255]\n",
      "   [ 19  25  43 255]\n",
      "   [ 18  25  42 255]]\n",
      "\n",
      "  ...\n",
      "\n",
      "  [[191 196 192 255]\n",
      "   [193 197 193 255]\n",
      "   [167 172 168 255]\n",
      "   ...\n",
      "   [119 125 139 255]\n",
      "   [ 80  87 101 255]\n",
      "   [115 121 136 255]]\n",
      "\n",
      "  [[190 195 191 255]\n",
      "   [189 194 190 255]\n",
      "   [172 177 173 255]\n",
      "   ...\n",
      "   [ 67  72  92 255]\n",
      "   [ 73  79  96 255]\n",
      "   [ 49  54  72 255]]\n",
      "\n",
      "  [[179 184 180 255]\n",
      "   [190 195 191 255]\n",
      "   [167 172 168 255]\n",
      "   ...\n",
      "   [101 107 122 255]\n",
      "   [ 68  73  91 255]\n",
      "   [ 16  21  40 255]]]]\n"
     ]
    }
   ],
   "source": [
    "print(data)\n",
    "#pixcel"
   ]
  },
  {
   "cell_type": "code",
   "execution_count": null,
   "metadata": {
    "colab": {
     "base_uri": "https://localhost:8080/"
    },
    "executionInfo": {
     "elapsed": 412,
     "status": "ok",
     "timestamp": 1641474223626,
     "user": {
      "displayName": "Sunik Nayak",
      "photoUrl": "https://lh3.googleusercontent.com/a/default-user=s64",
      "userId": "12854392670606531600"
     },
     "user_tz": -330
    },
    "id": "T7rL55vBQu7m",
    "outputId": "6fad005e-9499-4a49-8229-4bce6b36a95b"
   },
   "outputs": [
    {
     "data": {
      "text/plain": [
       "array([3, 3, 3, 3, 3, 3, 3, 3, 3, 3, 3, 3, 3, 3, 3, 3, 3, 3, 3, 3, 3, 3,\n",
       "       3, 3, 3, 3, 3, 3, 3, 3, 3, 3, 3, 3, 3, 3, 3, 3, 3, 3, 3, 3, 3, 3,\n",
       "       3, 3, 3, 3, 3, 3])"
      ]
     },
     "execution_count": 221,
     "metadata": {},
     "output_type": "execute_result"
    }
   ],
   "source": [
    "\n",
    "#print(labels)\n",
    "labels"
   ]
  },
  {
   "cell_type": "code",
   "execution_count": null,
   "metadata": {
    "colab": {
     "base_uri": "https://localhost:8080/"
    },
    "executionInfo": {
     "elapsed": 481,
     "status": "ok",
     "timestamp": 1641474227522,
     "user": {
      "displayName": "Sunik Nayak",
      "photoUrl": "https://lh3.googleusercontent.com/a/default-user=s64",
      "userId": "12854392670606531600"
     },
     "user_tz": -330
    },
    "id": "Vp-bK60xRP_6",
    "outputId": "32f90bda-75a8-4bbb-c6ca-a9ae325d522e"
   },
   "outputs": [
    {
     "data": {
      "text/plain": [
       "(array([[[ 53,  59,  75, 255],\n",
       "         [ 29,  35,  51, 255],\n",
       "         [ 17,  23,  39, 255],\n",
       "         ...,\n",
       "         [ 70,  75,  83, 255],\n",
       "         [ 74,  79,  84, 255],\n",
       "         [ 79,  84,  88, 255]],\n",
       " \n",
       "        [[ 47,  53,  69, 255],\n",
       "         [ 48,  54,  70, 255],\n",
       "         [ 26,  32,  48, 255],\n",
       "         ...,\n",
       "         [ 71,  75,  83, 255],\n",
       "         [ 67,  72,  78, 255],\n",
       "         [107, 112, 116, 255]],\n",
       " \n",
       "        [[ 35,  41,  57, 255],\n",
       "         [ 54,  60,  77, 255],\n",
       "         [ 33,  39,  55, 255],\n",
       "         ...,\n",
       "         [ 50,  55,  63, 255],\n",
       "         [ 83,  88,  94, 255],\n",
       "         [139, 144, 148, 255]],\n",
       " \n",
       "        ...,\n",
       " \n",
       "        [[  3,   5,  21, 255],\n",
       "         [  3,   5,  20, 255],\n",
       "         [  3,   5,  20, 255],\n",
       "         ...,\n",
       "         [ 92,  97, 112, 255],\n",
       "         [141, 144, 153, 255],\n",
       "         [180, 184, 185, 255]],\n",
       " \n",
       "        [[  3,   5,  20, 255],\n",
       "         [  3,   5,  20, 255],\n",
       "         [  3,   5,  20, 255],\n",
       "         ...,\n",
       "         [ 64,  69,  86, 255],\n",
       "         [136, 141, 147, 255],\n",
       "         [174, 179, 175, 255]],\n",
       " \n",
       "        [[  3,   5,  20, 255],\n",
       "         [  3,   5,  20, 255],\n",
       "         [  3,   5,  20, 255],\n",
       "         ...,\n",
       "         [ 72,  77,  96, 255],\n",
       "         [124, 127, 137, 255],\n",
       "         [187, 191, 189, 255]]], dtype=uint8), (100, 100, 4))"
      ]
     },
     "execution_count": 222,
     "metadata": {},
     "output_type": "execute_result"
    }
   ],
   "source": [
    "data[0],data[0].shape"
   ]
  },
  {
   "cell_type": "code",
   "execution_count": null,
   "metadata": {
    "id": "gmfQnAyFRQB-"
   },
   "outputs": [],
   "source": []
  },
  {
   "cell_type": "code",
   "execution_count": null,
   "metadata": {
    "id": "RTOvENTZRQDz"
   },
   "outputs": [],
   "source": []
  },
  {
   "cell_type": "code",
   "execution_count": null,
   "metadata": {
    "id": "ZpBVsXLPRQFq"
   },
   "outputs": [],
   "source": []
  },
  {
   "cell_type": "code",
   "execution_count": null,
   "metadata": {
    "id": "tJx12J7HRQH8"
   },
   "outputs": [],
   "source": []
  },
  {
   "cell_type": "code",
   "execution_count": null,
   "metadata": {
    "id": "FaMoJQO-RQJp"
   },
   "outputs": [],
   "source": []
  },
  {
   "cell_type": "code",
   "execution_count": null,
   "metadata": {
    "id": "O4X2VKlNfRPq"
   },
   "outputs": [],
   "source": []
  },
  {
   "cell_type": "code",
   "execution_count": null,
   "metadata": {
    "id": "BiDU4QsjfRRe"
   },
   "outputs": [],
   "source": []
  },
  {
   "cell_type": "code",
   "execution_count": null,
   "metadata": {
    "id": "GjGLT3QofRVg"
   },
   "outputs": [],
   "source": []
  },
  {
   "cell_type": "code",
   "execution_count": null,
   "metadata": {
    "id": "WQ83A35U-yrj"
   },
   "outputs": [],
   "source": [
    "#image = Image.open(path).convert('L')\n",
    "#print(image)\n",
    "mage = Image.open(path + '\\'+ a) \n",
    "     image = image.resize((30,30)) \n",
    "     image = np.array(image) \n",
    "     data.append(image) \n",
    "     labels.append(i) \n",
    "   except: \n",
    "        print(\"Error loading image\")"
   ]
  },
  {
   "cell_type": "code",
   "execution_count": null,
   "metadata": {
    "id": "YRnCByxca5OA"
   },
   "outputs": [],
   "source": [
    "#Retrieving the images and their labels \n",
    "for i in range(classes):\n",
    "    path = os.path.join(cur_path,'train',str(i))\n",
    "    images = os.listdir(path)\n",
    "    #print(images)\n",
    "\n",
    "    for a in images:\n",
    "        try:\n",
    "            image = Image.open(path + '//'+ a)\n",
    "            image = image.resize((30,30))\n",
    "            image = np.array(image)\n",
    "            sim = Image.fromarray(image)\n",
    "            data.append(image)\n",
    "            labels.append(i)\n",
    "        except:\n",
    "            print(\"Error loading image\")"
   ]
  },
  {
   "cell_type": "code",
   "execution_count": null,
   "metadata": {
    "id": "g7dn-zX_V6JS"
   },
   "outputs": [],
   "source": []
  },
  {
   "cell_type": "code",
   "execution_count": null,
   "metadata": {
    "id": "4WVYRgjbli7Z"
   },
   "outputs": [],
   "source": []
  },
  {
   "cell_type": "code",
   "execution_count": null,
   "metadata": {
    "id": "2UrF0Vqu_8Wz"
   },
   "outputs": [],
   "source": [
    "#import os\n",
    "#print(os.listdir('/content/gdrive/MyDrive/Sunik_sample_data/data/train/1'))"
   ]
  },
  {
   "cell_type": "code",
   "execution_count": null,
   "metadata": {
    "id": "YZrq68j_Axbg"
   },
   "outputs": [],
   "source": [
    "#Converting lists into numpy arrays\n",
    "data = np.array(data)\n",
    "labels = np.array(labels)\n",
    "\n",
    "print(data.shape, labels.shape)"
   ]
  },
  {
   "cell_type": "code",
   "execution_count": null,
   "metadata": {
    "id": "krRk-YwsAxhu"
   },
   "outputs": [],
   "source": []
  },
  {
   "cell_type": "code",
   "execution_count": null,
   "metadata": {
    "id": "-EC6rnTCVMHD"
   },
   "outputs": [],
   "source": []
  }
 ],
 "metadata": {
  "colab": {
   "authorship_tag": "ABX9TyME1VG5jW9Ajm6sQe02RGyI",
   "collapsed_sections": [],
   "name": "cyc_cls_2.ipynb",
   "provenance": []
  },
  "kernelspec": {
   "display_name": "Python 3 (ipykernel)",
   "language": "python",
   "name": "python3"
  },
  "language_info": {
   "codemirror_mode": {
    "name": "ipython",
    "version": 3
   },
   "file_extension": ".py",
   "mimetype": "text/x-python",
   "name": "python",
   "nbconvert_exporter": "python",
   "pygments_lexer": "ipython3",
   "version": "3.9.7"
  }
 },
 "nbformat": 4,
 "nbformat_minor": 1
}
